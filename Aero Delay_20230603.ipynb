{
  "nbformat": 4,
  "nbformat_minor": 0,
  "metadata": {
    "colab": {
      "provenance": [],
      "machine_shape": "hm",
      "gpuType": "T4",
      "authorship_tag": "ABX9TyMYQgg5BLqwJFWHXgaFOewC",
      "include_colab_link": true
    },
    "kernelspec": {
      "name": "python3",
      "display_name": "Python 3"
    },
    "language_info": {
      "name": "python"
    },
    "accelerator": "GPU"
  },
  "cells": [
    {
      "cell_type": "markdown",
      "metadata": {
        "id": "view-in-github",
        "colab_type": "text"
      },
      "source": [
        "<a href=\"https://colab.research.google.com/github/park1NG/MLTeamProject/blob/main/Aero%20Delay_20230603.ipynb\" target=\"_parent\"><img src=\"https://colab.research.google.com/assets/colab-badge.svg\" alt=\"Open In Colab\"/></a>"
      ]
    },
    {
      "cell_type": "code",
      "execution_count": 1,
      "metadata": {
        "colab": {
          "base_uri": "https://localhost:8080/"
        },
        "id": "BDBkebs8frgb",
        "outputId": "79516879-8f00-43f3-9c0d-83bacd0c292e"
      },
      "outputs": [
        {
          "output_type": "stream",
          "name": "stdout",
          "text": [
            "Mounted at /content/drive\n"
          ]
        }
      ],
      "source": [
        "import pandas as pd\n",
        "import numpy as np\n",
        "import os\n",
        "from sklearn.ensemble import RandomForestClassifier\n",
        "from sklearn.preprocessing import LabelEncoder\n",
        "from sklearn.metrics import accuracy_score, precision_recall_fscore_support\n",
        "from sklearn.model_selection import train_test_split, GridSearchCV\n",
        "import lightgbm as lgb\n",
        "\n",
        "from tqdm import tqdm\n",
        "\n",
        "from google.colab import drive\n",
        "drive.mount('/content/drive')\n"
      ]
    },
    {
      "cell_type": "code",
      "source": [
        "cd /content/drive/MyDrive/Colab Notebooks"
      ],
      "metadata": {
        "colab": {
          "base_uri": "https://localhost:8080/"
        },
        "id": "m1-nU4ICggg4",
        "outputId": "6d255960-ad42-4ffe-8125-8aa1a93797e1"
      },
      "execution_count": 2,
      "outputs": [
        {
          "output_type": "stream",
          "name": "stdout",
          "text": [
            "/content/drive/MyDrive/Colab Notebooks\n"
          ]
        }
      ]
    },
    {
      "cell_type": "code",
      "source": [
        "def data_preprocessing(df):\n",
        "    df.dropna()\n",
        "    \n",
        "    df = df.drop(df[df['예상'] == ':'].index)\n",
        "    df = df.drop(df[df['도착'] == ':'].index)\n",
        "    df = df.drop(df[df['현황'] == '취소'].index)\n",
        "\n",
        "    df['연월일'] = df['연월일'].astype(str)\n",
        "    df['년'] = df['연월일'].str[:4].astype(int)\n",
        "    df['월'] = df['연월일'].str[5:7].astype(int)\n",
        "    df['일'] = df['연월일'].str[8:10].astype(int)\n",
        "\n",
        "    df['예상'] = df['예상'].astype(str)\n",
        "    df['예상_1'] = df['예상'].str[:2].astype(int)\n",
        "    df['예상_2'] = df['예상'].str[3:].astype(int)\n",
        "\n",
        "    df['도착'] = df['도착'].astype(str)\n",
        "    df['도착_1'] = df['도착'].str[:2].astype(int)\n",
        "    df['도착_2'] = df['도착'].str[3:].astype(int)\n",
        "\n",
        "    df = df[['년', '월', '일', '항공사', '편명', '출발지', '예상_1', '예상_2', '도착_1', '도착_2', '현황']]\n",
        "    # for col in list(set(df.columns) - set(categorical)):\n",
        "    #     df = df.astypes({col:'float64'})\n",
        "    \n",
        "    categorical = ['항공사', '편명', '출발지', '현황']\n",
        "    label_encoder = LabelEncoder()\n",
        "    for col in categorical:\n",
        "        df[col] = label_encoder.fit_transform(df[col])\n",
        "        df = df.astype({col:'int'})\n",
        "\n",
        "    df.info()\n",
        "\n",
        "    return df\n"
      ],
      "metadata": {
        "id": "7rnQs5Spf1sz"
      },
      "execution_count": 22,
      "outputs": []
    },
    {
      "cell_type": "code",
      "source": [
        "def calculate_f1_score(y_true, y_pred):\n",
        "    # 정밀도, 재현율, F1 점수 계산\n",
        "    # micro, macro, samples, weighted\n",
        "    # weighted는 클래스의 빈도수에 따라 중요도를 부여하기 때문에, 샘플 수가 적은 클래스에 더 큰 가중치를 부여\n",
        "    precision, recall, f1, _ = precision_recall_fscore_support(y_true, y_pred, average='weighted')\n",
        "    \n",
        "    return f1"
      ],
      "metadata": {
        "id": "3GCDcTXUcZZ3"
      },
      "execution_count": 15,
      "outputs": []
    },
    {
      "cell_type": "markdown",
      "source": [
        "## 0번째 데이터 (file name: train_airportal.csv, test_airportal.csv) \n",
        "\n",
        "## 년, 월, 일, 항공사, 편명, 출발지, 예상_1, 예상_2, 도착_1, 도착_2, 현황"
      ],
      "metadata": {
        "id": "gcEFVc5TdU4d"
      }
    },
    {
      "cell_type": "code",
      "source": [
        "data_train = pd.read_csv('./train_airportal.csv')\n",
        "print(data_train['현황'].value_counts())\n",
        "data_train = data_preprocessing(data_train)\n",
        "\n",
        "data_test = pd.read_csv('./test_airportal.csv')\n",
        "data_test = data_preprocessing(data_test)\n",
        "\n",
        "\n",
        "x_train_tmp = data_train.iloc[:, :10]  # 0번부터 7번 열까지를 X로 설정\n",
        "y_train_tmp = data_train.iloc[:, 10]   # 8번 열을 y로 설정\n",
        "\n",
        "x_test_tmp = data_test.iloc[:, :10]  # 0번부터 7번 열까지를 X로 설정\n",
        "y_test_tmp = data_test.iloc[:, 10]   # 8번 열을 y로 설정\n",
        "\n",
        "print(x_test_tmp.info())\n",
        "print(y_test_tmp.info())"
      ],
      "metadata": {
        "colab": {
          "base_uri": "https://localhost:8080/"
        },
        "id": "4FQXbW7ff4sn",
        "outputId": "e16a165c-6dfe-47b8-db4b-fc2b5d6ed0e0"
      },
      "execution_count": 39,
      "outputs": [
        {
          "output_type": "stream",
          "name": "stdout",
          "text": [
            "출발    444548\n",
            "지연     44655\n",
            "취소       634\n",
            "회항       199\n",
            "Name: 현황, dtype: int64\n",
            "<class 'pandas.core.frame.DataFrame'>\n",
            "Int64Index: 487397 entries, 0 to 490035\n",
            "Data columns (total 11 columns):\n",
            " #   Column  Non-Null Count   Dtype\n",
            "---  ------  --------------   -----\n",
            " 0   년       487397 non-null  int64\n",
            " 1   월       487397 non-null  int64\n",
            " 2   일       487397 non-null  int64\n",
            " 3   항공사     487397 non-null  int64\n",
            " 4   편명      487397 non-null  int64\n",
            " 5   출발지     487397 non-null  int64\n",
            " 6   예상_1    487397 non-null  int64\n",
            " 7   예상_2    487397 non-null  int64\n",
            " 8   도착_1    487397 non-null  int64\n",
            " 9   도착_2    487397 non-null  int64\n",
            " 10  현황      487397 non-null  int64\n",
            "dtypes: int64(11)\n",
            "memory usage: 44.6 MB\n",
            "<class 'pandas.core.frame.DataFrame'>\n",
            "Int64Index: 182019 entries, 0 to 184516\n",
            "Data columns (total 11 columns):\n",
            " #   Column  Non-Null Count   Dtype\n",
            "---  ------  --------------   -----\n",
            " 0   년       182019 non-null  int64\n",
            " 1   월       182019 non-null  int64\n",
            " 2   일       182019 non-null  int64\n",
            " 3   항공사     182019 non-null  int64\n",
            " 4   편명      182019 non-null  int64\n",
            " 5   출발지     182019 non-null  int64\n",
            " 6   예상_1    182019 non-null  int64\n",
            " 7   예상_2    182019 non-null  int64\n",
            " 8   도착_1    182019 non-null  int64\n",
            " 9   도착_2    182019 non-null  int64\n",
            " 10  현황      182019 non-null  int64\n",
            "dtypes: int64(11)\n",
            "memory usage: 16.7 MB\n",
            "<class 'pandas.core.frame.DataFrame'>\n",
            "Int64Index: 182019 entries, 0 to 184516\n",
            "Data columns (total 10 columns):\n",
            " #   Column  Non-Null Count   Dtype\n",
            "---  ------  --------------   -----\n",
            " 0   년       182019 non-null  int64\n",
            " 1   월       182019 non-null  int64\n",
            " 2   일       182019 non-null  int64\n",
            " 3   항공사     182019 non-null  int64\n",
            " 4   편명      182019 non-null  int64\n",
            " 5   출발지     182019 non-null  int64\n",
            " 6   예상_1    182019 non-null  int64\n",
            " 7   예상_2    182019 non-null  int64\n",
            " 8   도착_1    182019 non-null  int64\n",
            " 9   도착_2    182019 non-null  int64\n",
            "dtypes: int64(10)\n",
            "memory usage: 15.3 MB\n",
            "None\n",
            "<class 'pandas.core.series.Series'>\n",
            "Int64Index: 182019 entries, 0 to 184516\n",
            "Series name: 현황\n",
            "Non-Null Count   Dtype\n",
            "--------------   -----\n",
            "182019 non-null  int64\n",
            "dtypes: int64(1)\n",
            "memory usage: 2.8 MB\n",
            "None\n"
          ]
        }
      ]
    },
    {
      "cell_type": "code",
      "source": [
        "model = RandomForestClassifier(n_estimators=100, random_state=42)\n",
        "model.fit(x_train_tmp, y_train_tmp)\n",
        "\n",
        "y_pred = model.predict(x_test_tmp)\n",
        "accuracy = accuracy_score(y_test_tmp, y_pred)\n",
        "\n",
        "print(\"정확도:\", accuracy)"
      ],
      "metadata": {
        "colab": {
          "base_uri": "https://localhost:8080/"
        },
        "id": "dqnhoNL8f6C6",
        "outputId": "353bbbaf-7ace-435b-b8cd-bc0104cbae98"
      },
      "execution_count": 40,
      "outputs": [
        {
          "output_type": "stream",
          "name": "stdout",
          "text": [
            "정확도: 0.8218867261110104\n"
          ]
        }
      ]
    },
    {
      "cell_type": "code",
      "source": [
        "print(calculate_f1_score(y_test_tmp, y_pred))"
      ],
      "metadata": {
        "colab": {
          "base_uri": "https://localhost:8080/"
        },
        "id": "s61Tbrm4ij7Y",
        "outputId": "042a6f0e-d141-4e61-feb3-46035659c82f"
      },
      "execution_count": 41,
      "outputs": [
        {
          "output_type": "stream",
          "name": "stdout",
          "text": [
            "0.8588758767310122\n"
          ]
        },
        {
          "output_type": "stream",
          "name": "stderr",
          "text": [
            "/usr/local/lib/python3.10/dist-packages/sklearn/metrics/_classification.py:1344: UndefinedMetricWarning: Precision and F-score are ill-defined and being set to 0.0 in labels with no predicted samples. Use `zero_division` parameter to control this behavior.\n",
            "  _warn_prf(average, modifier, msg_start, len(result))\n"
          ]
        }
      ]
    },
    {
      "cell_type": "code",
      "source": [
        "model = lgb.LGBMClassifier(n_estimators=100, random_state=42)\n",
        "model.fit(x_train_tmp, y_train_tmp)\n",
        "\n",
        "y_pred = model.predict(x_test_tmp)\n",
        "accuracy = accuracy_score(y_test_tmp, y_pred)\n",
        "\n",
        "print(\"정확도:\", accuracy)"
      ],
      "metadata": {
        "id": "_sS9sa2Xiqg5",
        "colab": {
          "base_uri": "https://localhost:8080/"
        },
        "outputId": "6d21b5ef-ef19-41e0-b4ae-bd966442f188"
      },
      "execution_count": 42,
      "outputs": [
        {
          "output_type": "stream",
          "name": "stdout",
          "text": [
            "정확도: 0.9342705981243716\n"
          ]
        }
      ]
    },
    {
      "cell_type": "code",
      "source": [
        "print(calculate_f1_score(y_test_tmp, y_pred))"
      ],
      "metadata": {
        "colab": {
          "base_uri": "https://localhost:8080/"
        },
        "id": "XwiTBdJVlvz7",
        "outputId": "6d213f6b-7109-4960-dcb1-edd016002c35"
      },
      "execution_count": 43,
      "outputs": [
        {
          "output_type": "stream",
          "name": "stdout",
          "text": [
            "0.9265630879197277\n"
          ]
        }
      ]
    },
    {
      "cell_type": "markdown",
      "source": [
        "## 1번째 데이터 (file name: 승객+편수16_18.csv, 승객+편수19.csv) \n",
        "\n",
        "## 예상_승객, 운행_편수 추가"
      ],
      "metadata": {
        "id": "BR0-5NOTfE2T"
      }
    },
    {
      "cell_type": "code",
      "source": [
        "first_train = pd.read_csv('승객+편수16_18.csv')\n",
        "first_test = pd.read_csv('승객+편수19.csv')\n",
        "\n",
        "first_train.info()\n",
        "first_test.info()"
      ],
      "metadata": {
        "id": "7IQ1RsjCgdmE",
        "colab": {
          "base_uri": "https://localhost:8080/"
        },
        "outputId": "055b318b-1da4-44c5-f5d4-b5b5d651065b"
      },
      "execution_count": 12,
      "outputs": [
        {
          "output_type": "stream",
          "name": "stdout",
          "text": [
            "<class 'pandas.core.frame.DataFrame'>\n",
            "RangeIndex: 487255 entries, 0 to 487254\n",
            "Data columns (total 11 columns):\n",
            " #   Column  Non-Null Count   Dtype\n",
            "---  ------  --------------   -----\n",
            " 0   년       487255 non-null  int64\n",
            " 1   월       487255 non-null  int64\n",
            " 2   일       487255 non-null  int64\n",
            " 3   항공사     487255 non-null  int64\n",
            " 4   편명      487255 non-null  int64\n",
            " 5   출발지     487255 non-null  int64\n",
            " 6   예상_1    487255 non-null  int64\n",
            " 7   예상_2    487255 non-null  int64\n",
            " 8   현황      487255 non-null  int64\n",
            " 9   예상_승객   487255 non-null  int64\n",
            " 10  운항편수    487255 non-null  int64\n",
            "dtypes: int64(11)\n",
            "memory usage: 40.9 MB\n",
            "<class 'pandas.core.frame.DataFrame'>\n",
            "RangeIndex: 181586 entries, 0 to 181585\n",
            "Data columns (total 11 columns):\n",
            " #   Column  Non-Null Count   Dtype\n",
            "---  ------  --------------   -----\n",
            " 0   년       181586 non-null  int64\n",
            " 1   월       181586 non-null  int64\n",
            " 2   일       181586 non-null  int64\n",
            " 3   항공사     181586 non-null  int64\n",
            " 4   편명      181586 non-null  int64\n",
            " 5   출발지     181586 non-null  int64\n",
            " 6   예상_1    181586 non-null  int64\n",
            " 7   예상_2    181586 non-null  int64\n",
            " 8   현황      181586 non-null  int64\n",
            " 9   예상_승객   181586 non-null  int64\n",
            " 10  운항편수    181586 non-null  int64\n",
            "dtypes: int64(11)\n",
            "memory usage: 15.2 MB\n"
          ]
        }
      ]
    },
    {
      "cell_type": "code",
      "source": [
        "tmp1, tmp2 = first_train.iloc[:, :8], first_train.iloc[:, 9:]\n",
        "x_train = pd.concat([tmp1, tmp2], axis=1)\n",
        "y_train = first_train.iloc[:, 8]\n",
        "\n",
        "tmp1, tmp2 = first_test.iloc[:, :8], first_test.iloc[:, 9:]\n",
        "x_test = pd.concat([tmp1, tmp2], axis=1)\n",
        "y_test = first_test.iloc[:, 8]\n",
        "\n",
        "x_train.info()\n",
        "y_train.info()"
      ],
      "metadata": {
        "colab": {
          "base_uri": "https://localhost:8080/"
        },
        "id": "LGVK5p_kgwKV",
        "outputId": "68ad873d-232c-4d0d-fabb-092d0ede4d1a"
      },
      "execution_count": 14,
      "outputs": [
        {
          "output_type": "stream",
          "name": "stdout",
          "text": [
            "<class 'pandas.core.frame.DataFrame'>\n",
            "RangeIndex: 487255 entries, 0 to 487254\n",
            "Data columns (total 10 columns):\n",
            " #   Column  Non-Null Count   Dtype\n",
            "---  ------  --------------   -----\n",
            " 0   년       487255 non-null  int64\n",
            " 1   월       487255 non-null  int64\n",
            " 2   일       487255 non-null  int64\n",
            " 3   항공사     487255 non-null  int64\n",
            " 4   편명      487255 non-null  int64\n",
            " 5   출발지     487255 non-null  int64\n",
            " 6   예상_1    487255 non-null  int64\n",
            " 7   예상_2    487255 non-null  int64\n",
            " 8   예상_승객   487255 non-null  int64\n",
            " 9   운항편수    487255 non-null  int64\n",
            "dtypes: int64(10)\n",
            "memory usage: 37.2 MB\n",
            "<class 'pandas.core.series.Series'>\n",
            "RangeIndex: 487255 entries, 0 to 487254\n",
            "Series name: 현황\n",
            "Non-Null Count   Dtype\n",
            "--------------   -----\n",
            "487255 non-null  int64\n",
            "dtypes: int64(1)\n",
            "memory usage: 3.7 MB\n"
          ]
        }
      ]
    },
    {
      "cell_type": "code",
      "source": [
        "model = RandomForestClassifier(n_estimators=100, random_state=42)\n",
        "model.fit(x_train, y_train)\n",
        "\n",
        "y_pred = model.predict(x_test)\n",
        "accuracy = accuracy_score(y_test, y_pred)\n",
        "\n",
        "print(\"정확도:\", accuracy)"
      ],
      "metadata": {
        "colab": {
          "base_uri": "https://localhost:8080/"
        },
        "id": "LKdR9c8gjHHz",
        "outputId": "2f56778d-ae42-448b-ef34-20d3eb2fde73"
      },
      "execution_count": 25,
      "outputs": [
        {
          "output_type": "stream",
          "name": "stdout",
          "text": [
            "정확도: 0.8947716233630346\n"
          ]
        }
      ]
    },
    {
      "cell_type": "code",
      "source": [
        "print(calculate_f1_score(y_test, y_pred))"
      ],
      "metadata": {
        "colab": {
          "base_uri": "https://localhost:8080/"
        },
        "id": "U2As6AfCjrhp",
        "outputId": "bc3da075-524f-491c-8307-0f6b8ed3e9b0"
      },
      "execution_count": 26,
      "outputs": [
        {
          "output_type": "stream",
          "name": "stdout",
          "text": [
            "0.8973532629422621\n"
          ]
        }
      ]
    },
    {
      "cell_type": "code",
      "source": [
        "model = lgb.LGBMClassifier(n_estimators=100, random_state=42)\n",
        "model.fit(x_train, y_train)\n",
        "\n",
        "y_pred = model.predict(x_test)\n",
        "accuracy = accuracy_score(y_test, y_pred)\n",
        "\n",
        "print(\"정확도:\", accuracy)"
      ],
      "metadata": {
        "colab": {
          "base_uri": "https://localhost:8080/"
        },
        "id": "Y2b9eqDjjvQN",
        "outputId": "e8c2c50e-1485-4095-b69c-173c1d83e2b9"
      },
      "execution_count": 27,
      "outputs": [
        {
          "output_type": "stream",
          "name": "stdout",
          "text": [
            "정확도: 0.9098829204894651\n"
          ]
        }
      ]
    },
    {
      "cell_type": "code",
      "source": [
        "print(calculate_f1_score(y_test, y_pred))"
      ],
      "metadata": {
        "colab": {
          "base_uri": "https://localhost:8080/"
        },
        "id": "lZgDUEXkjx4J",
        "outputId": "97f5befb-b936-410c-9485-1e0c64d0ae92"
      },
      "execution_count": 28,
      "outputs": [
        {
          "output_type": "stream",
          "name": "stdout",
          "text": [
            "0.9054245584171872\n"
          ]
        }
      ]
    },
    {
      "cell_type": "markdown",
      "source": [
        "## 2번째 데이터 (file name:승객+편수+날씨16_18, 승객+편수+날씨19) \n",
        "\n",
        "## 실제 출발 시간 drop 적용\n",
        "\n",
        "## 가시거리, 온도, 풍속, 평일, 금요일, 주말, 공휴일 추가"
      ],
      "metadata": {
        "id": "pA0EqQPwk_5n"
      }
    },
    {
      "cell_type": "code",
      "source": [
        "second_train = pd.read_csv('승객+편수+날씨16_18.csv')\n",
        "second_test = pd.read_csv('승객+편수+날씨19.csv')\n",
        "\n",
        "second_train.info()\n",
        "second_test.info()"
      ],
      "metadata": {
        "id": "EREKPKYbjyhc",
        "colab": {
          "base_uri": "https://localhost:8080/"
        },
        "outputId": "2a11310b-a038-401b-8924-b870c2108c73"
      },
      "execution_count": 30,
      "outputs": [
        {
          "output_type": "stream",
          "name": "stdout",
          "text": [
            "<class 'pandas.core.frame.DataFrame'>\n",
            "RangeIndex: 485851 entries, 0 to 485850\n",
            "Data columns (total 15 columns):\n",
            " #   Column  Non-Null Count   Dtype  \n",
            "---  ------  --------------   -----  \n",
            " 0   년       485851 non-null  int64  \n",
            " 1   월       485851 non-null  int64  \n",
            " 2   일       485851 non-null  int64  \n",
            " 3   항공사     485851 non-null  int64  \n",
            " 4   편명      485851 non-null  int64  \n",
            " 5   출발지     485851 non-null  int64  \n",
            " 6   예상_1    485851 non-null  int64  \n",
            " 7   예상_2    485851 non-null  int64  \n",
            " 8   현황      485851 non-null  int64  \n",
            " 9   예상_승객   485851 non-null  int64  \n",
            " 10  운항편수    485851 non-null  int64  \n",
            " 11  Count   485851 non-null  int64  \n",
            " 12  가시거리    485851 non-null  float64\n",
            " 13  온도      485851 non-null  float64\n",
            " 14  풍속      485851 non-null  float64\n",
            "dtypes: float64(3), int64(12)\n",
            "memory usage: 55.6 MB\n",
            "<class 'pandas.core.frame.DataFrame'>\n",
            "RangeIndex: 181112 entries, 0 to 181111\n",
            "Data columns (total 15 columns):\n",
            " #   Column  Non-Null Count   Dtype  \n",
            "---  ------  --------------   -----  \n",
            " 0   년       181112 non-null  int64  \n",
            " 1   월       181112 non-null  int64  \n",
            " 2   일       181112 non-null  int64  \n",
            " 3   항공사     181112 non-null  int64  \n",
            " 4   편명      181112 non-null  int64  \n",
            " 5   출발지     181112 non-null  int64  \n",
            " 6   예상_1    181112 non-null  int64  \n",
            " 7   예상_2    181112 non-null  int64  \n",
            " 8   현황      181112 non-null  int64  \n",
            " 9   예상_승객   181112 non-null  int64  \n",
            " 10  운항편수    181112 non-null  int64  \n",
            " 11  Count   181112 non-null  int64  \n",
            " 12  가시거리    181112 non-null  float64\n",
            " 13  온도      181112 non-null  float64\n",
            " 14  풍속      181112 non-null  float64\n",
            "dtypes: float64(3), int64(12)\n",
            "memory usage: 20.7 MB\n"
          ]
        }
      ]
    },
    {
      "cell_type": "code",
      "source": [
        "tmp1, tmp2 = first_train.iloc[:, :8], first_train.iloc[:, 9:]\n",
        "x_train = pd.concat([tmp1, tmp2], axis=1)\n",
        "y_train = first_train.iloc[:, 8]\n",
        "\n",
        "tmp1, tmp2 = first_test.iloc[:, :8], first_test.iloc[:, 9:]\n",
        "x_test = pd.concat([tmp1, tmp2], axis=1)\n",
        "y_test = first_test.iloc[:, 8]\n",
        "\n",
        "x_train.info()\n",
        "y_train.info()"
      ],
      "metadata": {
        "colab": {
          "base_uri": "https://localhost:8080/"
        },
        "id": "SIHaqzzLoHvQ",
        "outputId": "cc5af1e2-419c-4f2f-82a3-c7ac3b420df6"
      },
      "execution_count": 31,
      "outputs": [
        {
          "output_type": "stream",
          "name": "stdout",
          "text": [
            "<class 'pandas.core.frame.DataFrame'>\n",
            "RangeIndex: 485851 entries, 0 to 485850\n",
            "Data columns (total 14 columns):\n",
            " #   Column  Non-Null Count   Dtype  \n",
            "---  ------  --------------   -----  \n",
            " 0   년       485851 non-null  int64  \n",
            " 1   월       485851 non-null  int64  \n",
            " 2   일       485851 non-null  int64  \n",
            " 3   항공사     485851 non-null  int64  \n",
            " 4   편명      485851 non-null  int64  \n",
            " 5   출발지     485851 non-null  int64  \n",
            " 6   예상_1    485851 non-null  int64  \n",
            " 7   예상_2    485851 non-null  int64  \n",
            " 8   예상_승객   485851 non-null  int64  \n",
            " 9   운항편수    485851 non-null  int64  \n",
            " 10  Count   485851 non-null  int64  \n",
            " 11  가시거리    485851 non-null  float64\n",
            " 12  온도      485851 non-null  float64\n",
            " 13  풍속      485851 non-null  float64\n",
            "dtypes: float64(3), int64(11)\n",
            "memory usage: 51.9 MB\n",
            "<class 'pandas.core.series.Series'>\n",
            "RangeIndex: 485851 entries, 0 to 485850\n",
            "Series name: 현황\n",
            "Non-Null Count   Dtype\n",
            "--------------   -----\n",
            "485851 non-null  int64\n",
            "dtypes: int64(1)\n",
            "memory usage: 3.7 MB\n"
          ]
        }
      ]
    },
    {
      "cell_type": "code",
      "source": [
        "model = RandomForestClassifier(n_estimators=100, random_state=42)\n",
        "model.fit(x_train, y_train)\n",
        "\n",
        "y_pred = model.predict(x_test)\n",
        "accuracy = accuracy_score(y_test, y_pred)\n",
        "\n",
        "print(\"정확도:\", accuracy)"
      ],
      "metadata": {
        "colab": {
          "base_uri": "https://localhost:8080/"
        },
        "id": "NkD5WODRpfzn",
        "outputId": "5f9d3abe-4eee-4ed5-f0ad-9a59eba27de1"
      },
      "execution_count": 35,
      "outputs": [
        {
          "output_type": "stream",
          "name": "stdout",
          "text": [
            "정확도: 0.9292813286805954\n"
          ]
        }
      ]
    },
    {
      "cell_type": "code",
      "source": [
        "print(calculate_f1_score(y_test, y_pred))"
      ],
      "metadata": {
        "colab": {
          "base_uri": "https://localhost:8080/"
        },
        "id": "vtb0EfZj8864",
        "outputId": "6359b816-9cd3-4003-c29e-ebfd13c310fa"
      },
      "execution_count": 36,
      "outputs": [
        {
          "output_type": "stream",
          "name": "stdout",
          "text": [
            "0.9090970572550255\n"
          ]
        }
      ]
    },
    {
      "cell_type": "code",
      "source": [
        "model = lgb.LGBMClassifier(n_estimators=100, random_state=42)\n",
        "model.fit(x_train, y_train)\n",
        "\n",
        "y_pred = model.predict(x_test)\n",
        "accuracy = accuracy_score(y_test, y_pred)\n",
        "\n",
        "print(\"정확도:\", accuracy)"
      ],
      "metadata": {
        "colab": {
          "base_uri": "https://localhost:8080/"
        },
        "id": "sOKJ4jFrptu3",
        "outputId": "2cdfa81b-85aa-484e-ef3e-fcc986ad5068"
      },
      "execution_count": 37,
      "outputs": [
        {
          "output_type": "stream",
          "name": "stdout",
          "text": [
            "정확도: 0.8769159415168515\n"
          ]
        }
      ]
    },
    {
      "cell_type": "code",
      "source": [
        "print(calculate_f1_score(y_test, y_pred))"
      ],
      "metadata": {
        "colab": {
          "base_uri": "https://localhost:8080/"
        },
        "id": "TxDIxeXmfrqm",
        "outputId": "4eaa13c2-c5ed-40d0-e208-4af67e1782ed"
      },
      "execution_count": 38,
      "outputs": [
        {
          "output_type": "stream",
          "name": "stdout",
          "text": [
            "0.8860154688359566\n"
          ]
        }
      ]
    },
    {
      "cell_type": "code",
      "source": [
        "lgb_classifier = lgb.LGBMClassifier()\n",
        "param_grid = {\n",
        "    'n_estimators': [100, 200],\n",
        "    'max_depth': [2, 5, 15],\n",
        "    'num_leaves': [31, 63, 127],\n",
        "    'learning_rate': [0.01, 0.05],\n",
        "    'min_child_samples': [100, 200, 250],\n",
        "}\n",
        "\n",
        "# 그리드 서치를 학습 데이터에 적용하고 최적의 하이퍼파라미터를 찾기\n",
        "grid_search = GridSearchCV(estimator=lgb_classifier, param_grid=param_grid, cv=5, verbose=2, n_jobs=-1)\n",
        "grid_search.fit(x_train, y_train)\n",
        "\n",
        "# 최적의 하이퍼파라미터 출력\n",
        "print('Best parameters found by grid search:', grid_search.best_params_)\n",
        "\n",
        "# 최적의 모델로 예측 및 정확도 측정\n",
        "y_pred = grid_search.predict(x_test)\n",
        "accuracy = accuracy_score(y_test, y_pred)\n",
        "print('Test accuracy with best parameters:', accuracy)"
      ],
      "metadata": {
        "colab": {
          "base_uri": "https://localhost:8080/"
        },
        "id": "pP3k_C9-qNM-",
        "outputId": "f34fc615-166f-430c-ae3a-743b89f08b0d"
      },
      "execution_count": 9,
      "outputs": [
        {
          "output_type": "stream",
          "name": "stdout",
          "text": [
            "Fitting 5 folds for each of 108 candidates, totalling 540 fits\n",
            "Best parameters found by grid search: {'learning_rate': 0.05, 'max_depth': 15, 'min_child_samples': 100, 'n_estimators': 200, 'num_leaves': 127}\n",
            "Test accuracy with best parameters: 0.9361310301546312\n"
          ]
        }
      ]
    },
    {
      "cell_type": "code",
      "source": [],
      "metadata": {
        "id": "0piQFJPuWKSu"
      },
      "execution_count": null,
      "outputs": []
    }
  ]
}
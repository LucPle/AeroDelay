{
  "nbformat": 4,
  "nbformat_minor": 0,
  "metadata": {
    "colab": {
      "provenance": [],
      "machine_shape": "hm",
      "gpuType": "T4",
      "authorship_tag": "ABX9TyMAfxYNCh2xHM/jtlKfjXUd",
      "include_colab_link": true
    },
    "kernelspec": {
      "name": "python3",
      "display_name": "Python 3"
    },
    "language_info": {
      "name": "python"
    },
    "accelerator": "GPU"
  },
  "cells": [
    {
      "cell_type": "markdown",
      "metadata": {
        "id": "view-in-github",
        "colab_type": "text"
      },
      "source": [
        "<a href=\"https://colab.research.google.com/github/park1NG/MLTeamProject/blob/main/acc_per_level_wo_greedsearch.ipynb\" target=\"_parent\"><img src=\"https://colab.research.google.com/assets/colab-badge.svg\" alt=\"Open In Colab\"/></a>"
      ]
    },
    {
      "cell_type": "code",
      "execution_count": 3,
      "metadata": {
        "colab": {
          "base_uri": "https://localhost:8080/"
        },
        "id": "BDBkebs8frgb",
        "outputId": "ca1590c7-849b-46a0-acc0-78bad55dfdde"
      },
      "outputs": [
        {
          "output_type": "stream",
          "name": "stdout",
          "text": [
            "Mounted at /content/drive\n"
          ]
        }
      ],
      "source": [
        "import pandas as pd\n",
        "import numpy as np\n",
        "import os\n",
        "from sklearn.ensemble import RandomForestClassifier\n",
        "from sklearn.preprocessing import LabelEncoder\n",
        "from sklearn.metrics import accuracy_score, precision_recall_fscore_support\n",
        "from sklearn.model_selection import train_test_split, GridSearchCV\n",
        "import lightgbm as lgb\n",
        "\n",
        "from tqdm import tqdm\n",
        "\n",
        "from google.colab import drive\n",
        "drive.mount('/content/drive')\n",
        "\n",
        "\n",
        "\n",
        "\n"
      ]
    },
    {
      "cell_type": "code",
      "source": [
        "cd /content/drive/MyDrive/Colab Notebooks"
      ],
      "metadata": {
        "colab": {
          "base_uri": "https://localhost:8080/"
        },
        "id": "m1-nU4ICggg4",
        "outputId": "f0ddf1d0-1dbd-4966-baa5-b8060c599c6c"
      },
      "execution_count": 4,
      "outputs": [
        {
          "output_type": "stream",
          "name": "stdout",
          "text": [
            "/content/drive/MyDrive/Colab Notebooks\n"
          ]
        }
      ]
    },
    {
      "cell_type": "code",
      "source": [
        "def data_preprocessing(df):\n",
        "    df.dropna()\n",
        "    \n",
        "    df = df.drop(df[df['예상'] == ':'].index)\n",
        "    df = df.drop(df[df['도착'] == ':'].index)\n",
        "    df = df.drop(df[df['현황'] == '취소'].index)\n",
        "\n",
        "    df['연월일'] = df['연월일'].astype(str)\n",
        "    df['년'] = df['연월일'].str[:4].astype(int)\n",
        "    df['월'] = df['연월일'].str[5:7].astype(int)\n",
        "    df['일'] = df['연월일'].str[8:10].astype(int)\n",
        "\n",
        "    df['예상'] = df['예상'].astype(str)\n",
        "    df['예상_1'] = df['예상'].str[:2].astype(int)\n",
        "    df['예상_2'] = df['예상'].str[3:].astype(int)\n",
        "\n",
        "    df['도착'] = df['도착'].astype(str)\n",
        "    df['도착_1'] = df['도착'].str[:2].astype(int)\n",
        "    df['도착_2'] = df['도착'].str[3:].astype(int)\n",
        "\n",
        "    df = df[['년', '월', '일', '항공사', '편명', '출발지', '예상_1', '예상_2', '도착_1', '도착_2', '현황']]\n",
        "    # for col in list(set(df.columns) - set(categorical)):\n",
        "    #     df = df.astypes({col:'float64'})\n",
        "    \n",
        "    categorical = ['항공사', '편명', '출발지', '현황']\n",
        "    label_encoder = LabelEncoder()\n",
        "    for col in categorical:\n",
        "        df[col] = label_encoder.fit_transform(df[col])\n",
        "        df = df.astype({col:'int'})\n",
        "\n",
        "    df.info()\n",
        "\n",
        "    return df\n"
      ],
      "metadata": {
        "id": "7rnQs5Spf1sz"
      },
      "execution_count": null,
      "outputs": []
    },
    {
      "cell_type": "code",
      "source": [
        "def calculate_f1_score(y_true, y_pred):\n",
        "    # 정밀도, 재현율, F1 점수 계산\n",
        "    # micro, macro, samples, weighted\n",
        "    precision, recall, f1, _ = precision_recall_fscore_support(y_true, y_pred, average='weighted')\n",
        "    \n",
        "    return f1"
      ],
      "metadata": {
        "id": "3GCDcTXUcZZ3"
      },
      "execution_count": 1,
      "outputs": []
    },
    {
      "cell_type": "markdown",
      "source": [
        "## 0번째 데이터 (file name: train_airportal.csv, test_airportal.csv) \n",
        "\n",
        "## 년, 월, 일, 항공사, 편명, 출발지, 예상_1, 예상_2, 도착_1, 도착_2, 현황"
      ],
      "metadata": {
        "id": "gcEFVc5TdU4d"
      }
    },
    {
      "cell_type": "code",
      "source": [
        "data_train = pd.read_csv('./train_airportal.csv')\n",
        "data_train = data_preprocessing(data_train)\n",
        "\n",
        "data_test = pd.read_csv('./test_airportal.csv')\n",
        "data_test = data_preprocessing(data_test)\n",
        "\n",
        "\n",
        "x_train_tmp = data_train.iloc[:, :10]  # 0번부터 7번 열까지를 X로 설정\n",
        "y_train_tmp = data_train.iloc[:, 10]   # 8번 열을 y로 설정\n",
        "\n",
        "x_test_tmp = data_test.iloc[:, :10]  # 0번부터 7번 열까지를 X로 설정\n",
        "y_test_tmp = data_test.iloc[:, 10]   # 8번 열을 y로 설정\n",
        "\n",
        "print(x_test_tmp.info())\n",
        "print(y_test_tmp.info())"
      ],
      "metadata": {
        "colab": {
          "base_uri": "https://localhost:8080/"
        },
        "id": "4FQXbW7ff4sn",
        "outputId": "dd8082e2-3632-43de-ec21-239a54f72641"
      },
      "execution_count": null,
      "outputs": [
        {
          "output_type": "stream",
          "name": "stdout",
          "text": [
            "<class 'pandas.core.frame.DataFrame'>\n",
            "Int64Index: 487397 entries, 0 to 490035\n",
            "Data columns (total 11 columns):\n",
            " #   Column  Non-Null Count   Dtype\n",
            "---  ------  --------------   -----\n",
            " 0   년       487397 non-null  int64\n",
            " 1   월       487397 non-null  int64\n",
            " 2   일       487397 non-null  int64\n",
            " 3   항공사     487397 non-null  int64\n",
            " 4   편명      487397 non-null  int64\n",
            " 5   출발지     487397 non-null  int64\n",
            " 6   예상_1    487397 non-null  int64\n",
            " 7   예상_2    487397 non-null  int64\n",
            " 8   도착_1    487397 non-null  int64\n",
            " 9   도착_2    487397 non-null  int64\n",
            " 10  현황      487397 non-null  int64\n",
            "dtypes: int64(11)\n",
            "memory usage: 44.6 MB\n",
            "<class 'pandas.core.frame.DataFrame'>\n",
            "Int64Index: 182019 entries, 0 to 184516\n",
            "Data columns (total 11 columns):\n",
            " #   Column  Non-Null Count   Dtype\n",
            "---  ------  --------------   -----\n",
            " 0   년       182019 non-null  int64\n",
            " 1   월       182019 non-null  int64\n",
            " 2   일       182019 non-null  int64\n",
            " 3   항공사     182019 non-null  int64\n",
            " 4   편명      182019 non-null  int64\n",
            " 5   출발지     182019 non-null  int64\n",
            " 6   예상_1    182019 non-null  int64\n",
            " 7   예상_2    182019 non-null  int64\n",
            " 8   도착_1    182019 non-null  int64\n",
            " 9   도착_2    182019 non-null  int64\n",
            " 10  현황      182019 non-null  int64\n",
            "dtypes: int64(11)\n",
            "memory usage: 16.7 MB\n",
            "<class 'pandas.core.frame.DataFrame'>\n",
            "Int64Index: 182019 entries, 0 to 184516\n",
            "Data columns (total 10 columns):\n",
            " #   Column  Non-Null Count   Dtype\n",
            "---  ------  --------------   -----\n",
            " 0   년       182019 non-null  int64\n",
            " 1   월       182019 non-null  int64\n",
            " 2   일       182019 non-null  int64\n",
            " 3   항공사     182019 non-null  int64\n",
            " 4   편명      182019 non-null  int64\n",
            " 5   출발지     182019 non-null  int64\n",
            " 6   예상_1    182019 non-null  int64\n",
            " 7   예상_2    182019 non-null  int64\n",
            " 8   도착_1    182019 non-null  int64\n",
            " 9   도착_2    182019 non-null  int64\n",
            "dtypes: int64(10)\n",
            "memory usage: 15.3 MB\n",
            "None\n",
            "<class 'pandas.core.series.Series'>\n",
            "Int64Index: 182019 entries, 0 to 184516\n",
            "Series name: 현황\n",
            "Non-Null Count   Dtype\n",
            "--------------   -----\n",
            "182019 non-null  int64\n",
            "dtypes: int64(1)\n",
            "memory usage: 2.8 MB\n",
            "None\n"
          ]
        }
      ]
    },
    {
      "cell_type": "code",
      "source": [
        "model = RandomForestClassifier(n_estimators=100, random_state=42)\n",
        "model.fit(x_train_tmp, y_train_tmp)\n",
        "\n",
        "y_pred = model.predict(x_test_tmp)\n",
        "accuracy = accuracy_score(y_test_tmp, y_pred)\n",
        "\n",
        "print(\"정확도:\", accuracy)"
      ],
      "metadata": {
        "colab": {
          "base_uri": "https://localhost:8080/"
        },
        "id": "dqnhoNL8f6C6",
        "outputId": "e2d826cd-a188-4c15-a4d2-758fbe4df19f"
      },
      "execution_count": null,
      "outputs": [
        {
          "output_type": "stream",
          "name": "stdout",
          "text": [
            "정확도: 0.8218867261110104\n"
          ]
        }
      ]
    },
    {
      "cell_type": "code",
      "source": [
        "print(calculate_f1_score(y_test_tmp, y_pred))"
      ],
      "metadata": {
        "colab": {
          "base_uri": "https://localhost:8080/"
        },
        "id": "s61Tbrm4ij7Y",
        "outputId": "9f5dcde1-c6d8-464d-c482-b637d51be200"
      },
      "execution_count": null,
      "outputs": [
        {
          "output_type": "stream",
          "name": "stdout",
          "text": [
            "0.8588758767310122\n"
          ]
        },
        {
          "output_type": "stream",
          "name": "stderr",
          "text": [
            "/usr/local/lib/python3.10/dist-packages/sklearn/metrics/_classification.py:1344: UndefinedMetricWarning: Precision and F-score are ill-defined and being set to 0.0 in labels with no predicted samples. Use `zero_division` parameter to control this behavior.\n",
            "  _warn_prf(average, modifier, msg_start, len(result))\n"
          ]
        }
      ]
    },
    {
      "cell_type": "code",
      "source": [
        "model = lgb.LGBMClassifier(n_estimators=100, random_state=42)\n",
        "model.fit(x_train_tmp, y_train_tmp)\n",
        "\n",
        "y_pred = model.predict(x_test_tmp)\n",
        "accuracy = accuracy_score(y_test_tmp, y_pred)\n",
        "\n",
        "print(\"정확도:\", accuracy)"
      ],
      "metadata": {
        "id": "_sS9sa2Xiqg5",
        "colab": {
          "base_uri": "https://localhost:8080/"
        },
        "outputId": "d3a63511-3e6a-4cc0-aacb-e082b0d3cb3e"
      },
      "execution_count": null,
      "outputs": [
        {
          "output_type": "stream",
          "name": "stdout",
          "text": [
            "정확도: 0.9342705981243716\n"
          ]
        }
      ]
    },
    {
      "cell_type": "code",
      "source": [
        "print(calculate_f1_score(y_test_tmp, y_pred))"
      ],
      "metadata": {
        "colab": {
          "base_uri": "https://localhost:8080/"
        },
        "id": "XwiTBdJVlvz7",
        "outputId": "8a587354-ec5f-4968-e2cb-2cbf10bcf1a9"
      },
      "execution_count": null,
      "outputs": [
        {
          "output_type": "stream",
          "name": "stdout",
          "text": [
            "0.9265630879197277\n"
          ]
        }
      ]
    },
    {
      "cell_type": "markdown",
      "source": [
        "## 1번째 데이터 (file name: airportal_passenger_airplane_per_day) \n",
        "\n",
        "## 예상_승객, 운행_편수 추가(도착 → 실제 출발시간)"
      ],
      "metadata": {
        "id": "BR0-5NOTfE2T"
      }
    },
    {
      "cell_type": "code",
      "source": [
        "per_day_data = pd.read_csv('./per_day.csv')"
      ],
      "metadata": {
        "id": "7IQ1RsjCgdmE"
      },
      "execution_count": 5,
      "outputs": []
    },
    {
      "cell_type": "code",
      "source": [
        "per_day_data.info()\n",
        "per_day_data.head()"
      ],
      "metadata": {
        "colab": {
          "base_uri": "https://localhost:8080/",
          "height": 592
        },
        "id": "LGVK5p_kgwKV",
        "outputId": "3e53cb56-fb18-4dcc-c974-6e5b314b1fbc"
      },
      "execution_count": null,
      "outputs": [
        {
          "output_type": "stream",
          "name": "stdout",
          "text": [
            "<class 'pandas.core.frame.DataFrame'>\n",
            "RangeIndex: 487396 entries, 0 to 487395\n",
            "Data columns (total 14 columns):\n",
            " #   Column      Non-Null Count   Dtype\n",
            "---  ------      --------------   -----\n",
            " 0   Unnamed: 0  487396 non-null  int64\n",
            " 1   년           487396 non-null  int64\n",
            " 2   월           487396 non-null  int64\n",
            " 3   일           487396 non-null  int64\n",
            " 4   항공사         487396 non-null  int64\n",
            " 5   편명          487396 non-null  int64\n",
            " 6   출발지         487396 non-null  int64\n",
            " 7   예상_1        487396 non-null  int64\n",
            " 8   예상_2        487396 non-null  int64\n",
            " 9   도착_1        487396 non-null  int64\n",
            " 10  도착_2        487396 non-null  int64\n",
            " 11  현황          487396 non-null  int64\n",
            " 12  예상_승객       487396 non-null  int64\n",
            " 13  운행_편수       487396 non-null  int64\n",
            "dtypes: int64(14)\n",
            "memory usage: 52.1 MB\n"
          ]
        },
        {
          "output_type": "execute_result",
          "data": {
            "text/plain": [
              "   Unnamed: 0     년  월  일  항공사    편명  출발지  예상_1  예상_2  도착_1  도착_2  현황  예상_승객  \\\n",
              "0           0  2016  1  1   49   441    9     0     5     0    11   1   1367   \n",
              "1           1  2016  1  1   70  1338   50     0     5     0    30   1   1367   \n",
              "2           2  2016  1  1   30  1440  184     0    10     0    15   1   1367   \n",
              "3           3  2016  1  1   75  1472   96     0     5     0    55   1   1367   \n",
              "4           4  2016  1  1    2   856    4     0    55     1    35   1   1367   \n",
              "\n",
              "   운행_편수  \n",
              "0    402  \n",
              "1    402  \n",
              "2    402  \n",
              "3    402  \n",
              "4    402  "
            ],
            "text/html": [
              "\n",
              "  <div id=\"df-639c34b3-d26a-4a50-921f-485e5f8f6811\">\n",
              "    <div class=\"colab-df-container\">\n",
              "      <div>\n",
              "<style scoped>\n",
              "    .dataframe tbody tr th:only-of-type {\n",
              "        vertical-align: middle;\n",
              "    }\n",
              "\n",
              "    .dataframe tbody tr th {\n",
              "        vertical-align: top;\n",
              "    }\n",
              "\n",
              "    .dataframe thead th {\n",
              "        text-align: right;\n",
              "    }\n",
              "</style>\n",
              "<table border=\"1\" class=\"dataframe\">\n",
              "  <thead>\n",
              "    <tr style=\"text-align: right;\">\n",
              "      <th></th>\n",
              "      <th>Unnamed: 0</th>\n",
              "      <th>년</th>\n",
              "      <th>월</th>\n",
              "      <th>일</th>\n",
              "      <th>항공사</th>\n",
              "      <th>편명</th>\n",
              "      <th>출발지</th>\n",
              "      <th>예상_1</th>\n",
              "      <th>예상_2</th>\n",
              "      <th>도착_1</th>\n",
              "      <th>도착_2</th>\n",
              "      <th>현황</th>\n",
              "      <th>예상_승객</th>\n",
              "      <th>운행_편수</th>\n",
              "    </tr>\n",
              "  </thead>\n",
              "  <tbody>\n",
              "    <tr>\n",
              "      <th>0</th>\n",
              "      <td>0</td>\n",
              "      <td>2016</td>\n",
              "      <td>1</td>\n",
              "      <td>1</td>\n",
              "      <td>49</td>\n",
              "      <td>441</td>\n",
              "      <td>9</td>\n",
              "      <td>0</td>\n",
              "      <td>5</td>\n",
              "      <td>0</td>\n",
              "      <td>11</td>\n",
              "      <td>1</td>\n",
              "      <td>1367</td>\n",
              "      <td>402</td>\n",
              "    </tr>\n",
              "    <tr>\n",
              "      <th>1</th>\n",
              "      <td>1</td>\n",
              "      <td>2016</td>\n",
              "      <td>1</td>\n",
              "      <td>1</td>\n",
              "      <td>70</td>\n",
              "      <td>1338</td>\n",
              "      <td>50</td>\n",
              "      <td>0</td>\n",
              "      <td>5</td>\n",
              "      <td>0</td>\n",
              "      <td>30</td>\n",
              "      <td>1</td>\n",
              "      <td>1367</td>\n",
              "      <td>402</td>\n",
              "    </tr>\n",
              "    <tr>\n",
              "      <th>2</th>\n",
              "      <td>2</td>\n",
              "      <td>2016</td>\n",
              "      <td>1</td>\n",
              "      <td>1</td>\n",
              "      <td>30</td>\n",
              "      <td>1440</td>\n",
              "      <td>184</td>\n",
              "      <td>0</td>\n",
              "      <td>10</td>\n",
              "      <td>0</td>\n",
              "      <td>15</td>\n",
              "      <td>1</td>\n",
              "      <td>1367</td>\n",
              "      <td>402</td>\n",
              "    </tr>\n",
              "    <tr>\n",
              "      <th>3</th>\n",
              "      <td>3</td>\n",
              "      <td>2016</td>\n",
              "      <td>1</td>\n",
              "      <td>1</td>\n",
              "      <td>75</td>\n",
              "      <td>1472</td>\n",
              "      <td>96</td>\n",
              "      <td>0</td>\n",
              "      <td>5</td>\n",
              "      <td>0</td>\n",
              "      <td>55</td>\n",
              "      <td>1</td>\n",
              "      <td>1367</td>\n",
              "      <td>402</td>\n",
              "    </tr>\n",
              "    <tr>\n",
              "      <th>4</th>\n",
              "      <td>4</td>\n",
              "      <td>2016</td>\n",
              "      <td>1</td>\n",
              "      <td>1</td>\n",
              "      <td>2</td>\n",
              "      <td>856</td>\n",
              "      <td>4</td>\n",
              "      <td>0</td>\n",
              "      <td>55</td>\n",
              "      <td>1</td>\n",
              "      <td>35</td>\n",
              "      <td>1</td>\n",
              "      <td>1367</td>\n",
              "      <td>402</td>\n",
              "    </tr>\n",
              "  </tbody>\n",
              "</table>\n",
              "</div>\n",
              "      <button class=\"colab-df-convert\" onclick=\"convertToInteractive('df-639c34b3-d26a-4a50-921f-485e5f8f6811')\"\n",
              "              title=\"Convert this dataframe to an interactive table.\"\n",
              "              style=\"display:none;\">\n",
              "        \n",
              "  <svg xmlns=\"http://www.w3.org/2000/svg\" height=\"24px\"viewBox=\"0 0 24 24\"\n",
              "       width=\"24px\">\n",
              "    <path d=\"M0 0h24v24H0V0z\" fill=\"none\"/>\n",
              "    <path d=\"M18.56 5.44l.94 2.06.94-2.06 2.06-.94-2.06-.94-.94-2.06-.94 2.06-2.06.94zm-11 1L8.5 8.5l.94-2.06 2.06-.94-2.06-.94L8.5 2.5l-.94 2.06-2.06.94zm10 10l.94 2.06.94-2.06 2.06-.94-2.06-.94-.94-2.06-.94 2.06-2.06.94z\"/><path d=\"M17.41 7.96l-1.37-1.37c-.4-.4-.92-.59-1.43-.59-.52 0-1.04.2-1.43.59L10.3 9.45l-7.72 7.72c-.78.78-.78 2.05 0 2.83L4 21.41c.39.39.9.59 1.41.59.51 0 1.02-.2 1.41-.59l7.78-7.78 2.81-2.81c.8-.78.8-2.07 0-2.86zM5.41 20L4 18.59l7.72-7.72 1.47 1.35L5.41 20z\"/>\n",
              "  </svg>\n",
              "      </button>\n",
              "      \n",
              "  <style>\n",
              "    .colab-df-container {\n",
              "      display:flex;\n",
              "      flex-wrap:wrap;\n",
              "      gap: 12px;\n",
              "    }\n",
              "\n",
              "    .colab-df-convert {\n",
              "      background-color: #E8F0FE;\n",
              "      border: none;\n",
              "      border-radius: 50%;\n",
              "      cursor: pointer;\n",
              "      display: none;\n",
              "      fill: #1967D2;\n",
              "      height: 32px;\n",
              "      padding: 0 0 0 0;\n",
              "      width: 32px;\n",
              "    }\n",
              "\n",
              "    .colab-df-convert:hover {\n",
              "      background-color: #E2EBFA;\n",
              "      box-shadow: 0px 1px 2px rgba(60, 64, 67, 0.3), 0px 1px 3px 1px rgba(60, 64, 67, 0.15);\n",
              "      fill: #174EA6;\n",
              "    }\n",
              "\n",
              "    [theme=dark] .colab-df-convert {\n",
              "      background-color: #3B4455;\n",
              "      fill: #D2E3FC;\n",
              "    }\n",
              "\n",
              "    [theme=dark] .colab-df-convert:hover {\n",
              "      background-color: #434B5C;\n",
              "      box-shadow: 0px 1px 3px 1px rgba(0, 0, 0, 0.15);\n",
              "      filter: drop-shadow(0px 1px 2px rgba(0, 0, 0, 0.3));\n",
              "      fill: #FFFFFF;\n",
              "    }\n",
              "  </style>\n",
              "\n",
              "      <script>\n",
              "        const buttonEl =\n",
              "          document.querySelector('#df-639c34b3-d26a-4a50-921f-485e5f8f6811 button.colab-df-convert');\n",
              "        buttonEl.style.display =\n",
              "          google.colab.kernel.accessAllowed ? 'block' : 'none';\n",
              "\n",
              "        async function convertToInteractive(key) {\n",
              "          const element = document.querySelector('#df-639c34b3-d26a-4a50-921f-485e5f8f6811');\n",
              "          const dataTable =\n",
              "            await google.colab.kernel.invokeFunction('convertToInteractive',\n",
              "                                                     [key], {});\n",
              "          if (!dataTable) return;\n",
              "\n",
              "          const docLinkHtml = 'Like what you see? Visit the ' +\n",
              "            '<a target=\"_blank\" href=https://colab.research.google.com/notebooks/data_table.ipynb>data table notebook</a>'\n",
              "            + ' to learn more about interactive tables.';\n",
              "          element.innerHTML = '';\n",
              "          dataTable['output_type'] = 'display_data';\n",
              "          await google.colab.output.renderOutput(dataTable, element);\n",
              "          const docLink = document.createElement('div');\n",
              "          docLink.innerHTML = docLinkHtml;\n",
              "          element.appendChild(docLink);\n",
              "        }\n",
              "      </script>\n",
              "    </div>\n",
              "  </div>\n",
              "  "
            ]
          },
          "metadata": {},
          "execution_count": 43
        }
      ]
    },
    {
      "cell_type": "code",
      "source": [
        "x_tmp_1, x_tmp_2 = per_day_data.iloc[:, 1:11], per_day_data.iloc[:, 12:] # 독립 변수\n",
        "y = per_day_data.iloc[:, 11] # 종속 변수\n",
        "x = pd.concat([x_tmp_1, x_tmp_2], axis=1)\n",
        "\n",
        "x.info()\n",
        "y.info()"
      ],
      "metadata": {
        "colab": {
          "base_uri": "https://localhost:8080/"
        },
        "id": "cmzh4NUuh1On",
        "outputId": "164a7190-7ed6-482a-b86d-cf62b27ab6df"
      },
      "execution_count": 6,
      "outputs": [
        {
          "output_type": "stream",
          "name": "stdout",
          "text": [
            "<class 'pandas.core.frame.DataFrame'>\n",
            "RangeIndex: 487396 entries, 0 to 487395\n",
            "Data columns (total 12 columns):\n",
            " #   Column  Non-Null Count   Dtype\n",
            "---  ------  --------------   -----\n",
            " 0   년       487396 non-null  int64\n",
            " 1   월       487396 non-null  int64\n",
            " 2   일       487396 non-null  int64\n",
            " 3   항공사     487396 non-null  int64\n",
            " 4   편명      487396 non-null  int64\n",
            " 5   출발지     487396 non-null  int64\n",
            " 6   예상_1    487396 non-null  int64\n",
            " 7   예상_2    487396 non-null  int64\n",
            " 8   도착_1    487396 non-null  int64\n",
            " 9   도착_2    487396 non-null  int64\n",
            " 10  예상_승객   487396 non-null  int64\n",
            " 11  운행_편수   487396 non-null  int64\n",
            "dtypes: int64(12)\n",
            "memory usage: 44.6 MB\n",
            "<class 'pandas.core.series.Series'>\n",
            "RangeIndex: 487396 entries, 0 to 487395\n",
            "Series name: 현황\n",
            "Non-Null Count   Dtype\n",
            "--------------   -----\n",
            "487396 non-null  int64\n",
            "dtypes: int64(1)\n",
            "memory usage: 3.7 MB\n"
          ]
        }
      ]
    },
    {
      "cell_type": "code",
      "source": [
        "x_train, x_test, y_train, y_test = train_test_split(x, y, test_size=0.2, random_state=42)"
      ],
      "metadata": {
        "id": "fU2lXl6ifEoY"
      },
      "execution_count": null,
      "outputs": []
    },
    {
      "cell_type": "code",
      "source": [
        "model = RandomForestClassifier(n_estimators=100, random_state=42)\n",
        "model.fit(x_train, y_train)\n",
        "\n",
        "y_pred = model.predict(x_test)\n",
        "accuracy = accuracy_score(y_test, y_pred)\n",
        "\n",
        "print(\"정확도:\", accuracy)"
      ],
      "metadata": {
        "colab": {
          "base_uri": "https://localhost:8080/"
        },
        "id": "LKdR9c8gjHHz",
        "outputId": "16cccd82-bf48-41a2-bc27-cc1cd51b25e9"
      },
      "execution_count": null,
      "outputs": [
        {
          "output_type": "stream",
          "name": "stdout",
          "text": [
            "정확도: 0.9522979072630283\n"
          ]
        }
      ]
    },
    {
      "cell_type": "code",
      "source": [
        "print(calculate_f1_score(y_test, y_pred))"
      ],
      "metadata": {
        "colab": {
          "base_uri": "https://localhost:8080/"
        },
        "id": "U2As6AfCjrhp",
        "outputId": "f93cc4da-a5a0-42de-b601-9d338f32f742"
      },
      "execution_count": null,
      "outputs": [
        {
          "output_type": "stream",
          "name": "stdout",
          "text": [
            "0.9459081278519333\n"
          ]
        },
        {
          "output_type": "stream",
          "name": "stderr",
          "text": [
            "/usr/local/lib/python3.10/dist-packages/sklearn/metrics/_classification.py:1344: UndefinedMetricWarning: Precision and F-score are ill-defined and being set to 0.0 in labels with no predicted samples. Use `zero_division` parameter to control this behavior.\n",
            "  _warn_prf(average, modifier, msg_start, len(result))\n"
          ]
        }
      ]
    },
    {
      "cell_type": "code",
      "source": [
        "x_train.info()\n",
        "x_test.info()\n",
        "y_train.info()\n",
        "y_test.info()"
      ],
      "metadata": {
        "colab": {
          "base_uri": "https://localhost:8080/"
        },
        "id": "5KZXSgcJkWpg",
        "outputId": "3235a53f-0fb2-4071-e617-dda4188567c9"
      },
      "execution_count": null,
      "outputs": [
        {
          "output_type": "stream",
          "name": "stdout",
          "text": [
            "<class 'pandas.core.frame.DataFrame'>\n",
            "Int64Index: 389916 entries, 113211 to 121958\n",
            "Data columns (total 12 columns):\n",
            " #   Column  Non-Null Count   Dtype\n",
            "---  ------  --------------   -----\n",
            " 0   년       389916 non-null  int64\n",
            " 1   월       389916 non-null  int64\n",
            " 2   일       389916 non-null  int64\n",
            " 3   항공사     389916 non-null  int64\n",
            " 4   편명      389916 non-null  int64\n",
            " 5   출발지     389916 non-null  int64\n",
            " 6   예상_1    389916 non-null  int64\n",
            " 7   예상_2    389916 non-null  int64\n",
            " 8   도착_1    389916 non-null  int64\n",
            " 9   도착_2    389916 non-null  int64\n",
            " 10  예상_승객   389916 non-null  int64\n",
            " 11  운행_편수   389916 non-null  int64\n",
            "dtypes: int64(12)\n",
            "memory usage: 38.7 MB\n",
            "<class 'pandas.core.frame.DataFrame'>\n",
            "Int64Index: 97480 entries, 448720 to 9253\n",
            "Data columns (total 12 columns):\n",
            " #   Column  Non-Null Count  Dtype\n",
            "---  ------  --------------  -----\n",
            " 0   년       97480 non-null  int64\n",
            " 1   월       97480 non-null  int64\n",
            " 2   일       97480 non-null  int64\n",
            " 3   항공사     97480 non-null  int64\n",
            " 4   편명      97480 non-null  int64\n",
            " 5   출발지     97480 non-null  int64\n",
            " 6   예상_1    97480 non-null  int64\n",
            " 7   예상_2    97480 non-null  int64\n",
            " 8   도착_1    97480 non-null  int64\n",
            " 9   도착_2    97480 non-null  int64\n",
            " 10  예상_승객   97480 non-null  int64\n",
            " 11  운행_편수   97480 non-null  int64\n",
            "dtypes: int64(12)\n",
            "memory usage: 9.7 MB\n",
            "<class 'pandas.core.series.Series'>\n",
            "Int64Index: 389916 entries, 113211 to 121958\n",
            "Series name: 현황\n",
            "Non-Null Count   Dtype\n",
            "--------------   -----\n",
            "389916 non-null  int64\n",
            "dtypes: int64(1)\n",
            "memory usage: 5.9 MB\n",
            "<class 'pandas.core.series.Series'>\n",
            "Int64Index: 97480 entries, 448720 to 9253\n",
            "Series name: 현황\n",
            "Non-Null Count  Dtype\n",
            "--------------  -----\n",
            "97480 non-null  int64\n",
            "dtypes: int64(1)\n",
            "memory usage: 1.5 MB\n"
          ]
        }
      ]
    },
    {
      "cell_type": "code",
      "source": [
        "model = lgb.LGBMClassifier(n_estimators=100, random_state=42)\n",
        "model.fit(x_train, y_train)\n",
        "\n",
        "y_pred = model.predict(x_test)\n",
        "accuracy = accuracy_score(y_test, y_pred)\n",
        "\n",
        "print(\"정확도:\", accuracy)"
      ],
      "metadata": {
        "colab": {
          "base_uri": "https://localhost:8080/"
        },
        "id": "Y2b9eqDjjvQN",
        "outputId": "9c8313ff-eeda-48d7-9b4e-431e1fb99b65"
      },
      "execution_count": null,
      "outputs": [
        {
          "output_type": "stream",
          "name": "stdout",
          "text": [
            "정확도: 0.933822322527698\n"
          ]
        }
      ]
    },
    {
      "cell_type": "code",
      "source": [
        "print(calculate_f1_score(y_test, y_pred))"
      ],
      "metadata": {
        "colab": {
          "base_uri": "https://localhost:8080/"
        },
        "id": "lZgDUEXkjx4J",
        "outputId": "18c79a4b-a423-4f14-9979-4602c0feca77"
      },
      "execution_count": null,
      "outputs": [
        {
          "output_type": "stream",
          "name": "stdout",
          "text": [
            "0.920480207661757\n"
          ]
        }
      ]
    },
    {
      "cell_type": "markdown",
      "source": [
        "## 2번째 데이터 (file name: airportal_passenger_airplane_per_day) \n",
        "\n",
        "## 실제 출발 시간 drop 적용\n",
        "\n",
        "## 가시거리, 온도, 풍속, 평일, 금요일, 주말, 공휴일 추가"
      ],
      "metadata": {
        "id": "pA0EqQPwk_5n"
      }
    },
    {
      "cell_type": "code",
      "source": [
        "weather_add = pd.read_csv('./holidays_with_weather_fin.csv')"
      ],
      "metadata": {
        "id": "EREKPKYbjyhc"
      },
      "execution_count": 7,
      "outputs": []
    },
    {
      "cell_type": "code",
      "source": [
        "weather_add.info()"
      ],
      "metadata": {
        "colab": {
          "base_uri": "https://localhost:8080/"
        },
        "id": "SIHaqzzLoHvQ",
        "outputId": "bb3d531b-ba6e-458f-cbc7-f24f504b8367"
      },
      "execution_count": 8,
      "outputs": [
        {
          "output_type": "stream",
          "name": "stdout",
          "text": [
            "<class 'pandas.core.frame.DataFrame'>\n",
            "RangeIndex: 485994 entries, 0 to 485993\n",
            "Data columns (total 21 columns):\n",
            " #   Column  Non-Null Count   Dtype  \n",
            "---  ------  --------------   -----  \n",
            " 0   년       485994 non-null  int64  \n",
            " 1   월       485994 non-null  int64  \n",
            " 2   일       485994 non-null  int64  \n",
            " 3   항공사     485994 non-null  int64  \n",
            " 4   편명      485994 non-null  int64  \n",
            " 5   출발지     485994 non-null  int64  \n",
            " 6   예상_1    485994 non-null  int64  \n",
            " 7   예상_2    485994 non-null  int64  \n",
            " 8   도착_1    485994 non-null  int64  \n",
            " 9   도착_2    485994 non-null  int64  \n",
            " 10  현황      485994 non-null  int64  \n",
            " 11  예상_승객   485994 non-null  int64  \n",
            " 12  운행_편수   485994 non-null  int64  \n",
            " 13  Count   485994 non-null  int64  \n",
            " 14  가시거리    485994 non-null  float64\n",
            " 15  온도      485994 non-null  float64\n",
            " 16  풍속      485994 non-null  float64\n",
            " 17  평일      485994 non-null  int64  \n",
            " 18  금요일     485994 non-null  int64  \n",
            " 19  주말      485994 non-null  int64  \n",
            " 20  공휴일     485994 non-null  int64  \n",
            "dtypes: float64(3), int64(18)\n",
            "memory usage: 77.9 MB\n"
          ]
        }
      ]
    },
    {
      "cell_type": "code",
      "source": [
        "x_tmp_1, x_tmp_2 = weather_add.iloc[:, :10], weather_add.iloc[:, 11:] # 독립 변수\n",
        "y = weather_add.iloc[:, 10] # 종속 변수\n",
        "x = pd.concat([x_tmp_1, x_tmp_2], axis=1)\n",
        "\n",
        "x = x.drop(labels=['도착_1', '도착_2'], axis=1)\n",
        "\n",
        "x.info()\n",
        "y.info()"
      ],
      "metadata": {
        "colab": {
          "base_uri": "https://localhost:8080/"
        },
        "id": "vT8d148BoLty",
        "outputId": "0c83e9e9-ee10-4aa0-c757-6a41fadbf530"
      },
      "execution_count": 14,
      "outputs": [
        {
          "output_type": "stream",
          "name": "stdout",
          "text": [
            "<class 'pandas.core.frame.DataFrame'>\n",
            "RangeIndex: 485994 entries, 0 to 485993\n",
            "Data columns (total 18 columns):\n",
            " #   Column  Non-Null Count   Dtype  \n",
            "---  ------  --------------   -----  \n",
            " 0   년       485994 non-null  int64  \n",
            " 1   월       485994 non-null  int64  \n",
            " 2   일       485994 non-null  int64  \n",
            " 3   항공사     485994 non-null  int64  \n",
            " 4   편명      485994 non-null  int64  \n",
            " 5   출발지     485994 non-null  int64  \n",
            " 6   예상_1    485994 non-null  int64  \n",
            " 7   예상_2    485994 non-null  int64  \n",
            " 8   예상_승객   485994 non-null  int64  \n",
            " 9   운행_편수   485994 non-null  int64  \n",
            " 10  Count   485994 non-null  int64  \n",
            " 11  가시거리    485994 non-null  float64\n",
            " 12  온도      485994 non-null  float64\n",
            " 13  풍속      485994 non-null  float64\n",
            " 14  평일      485994 non-null  int64  \n",
            " 15  금요일     485994 non-null  int64  \n",
            " 16  주말      485994 non-null  int64  \n",
            " 17  공휴일     485994 non-null  int64  \n",
            "dtypes: float64(3), int64(15)\n",
            "memory usage: 66.7 MB\n",
            "<class 'pandas.core.series.Series'>\n",
            "RangeIndex: 485994 entries, 0 to 485993\n",
            "Series name: 현황\n",
            "Non-Null Count   Dtype\n",
            "--------------   -----\n",
            "485994 non-null  int64\n",
            "dtypes: int64(1)\n",
            "memory usage: 3.7 MB\n"
          ]
        }
      ]
    },
    {
      "cell_type": "code",
      "source": [
        "x_train, x_test, y_train, y_test = train_test_split(x, y, test_size=0.2, random_state=42)"
      ],
      "metadata": {
        "id": "sf8jZsSepLGa"
      },
      "execution_count": 15,
      "outputs": []
    },
    {
      "cell_type": "code",
      "source": [
        "x_train.info()\n",
        "y_train.info()"
      ],
      "metadata": {
        "colab": {
          "base_uri": "https://localhost:8080/"
        },
        "id": "KqecW3ype417",
        "outputId": "8a69766a-9c37-4cc7-b359-6c0a8805940d"
      },
      "execution_count": 16,
      "outputs": [
        {
          "output_type": "stream",
          "name": "stdout",
          "text": [
            "<class 'pandas.core.frame.DataFrame'>\n",
            "Int64Index: 388795 entries, 339661 to 121958\n",
            "Data columns (total 18 columns):\n",
            " #   Column  Non-Null Count   Dtype  \n",
            "---  ------  --------------   -----  \n",
            " 0   년       388795 non-null  int64  \n",
            " 1   월       388795 non-null  int64  \n",
            " 2   일       388795 non-null  int64  \n",
            " 3   항공사     388795 non-null  int64  \n",
            " 4   편명      388795 non-null  int64  \n",
            " 5   출발지     388795 non-null  int64  \n",
            " 6   예상_1    388795 non-null  int64  \n",
            " 7   예상_2    388795 non-null  int64  \n",
            " 8   예상_승객   388795 non-null  int64  \n",
            " 9   운행_편수   388795 non-null  int64  \n",
            " 10  Count   388795 non-null  int64  \n",
            " 11  가시거리    388795 non-null  float64\n",
            " 12  온도      388795 non-null  float64\n",
            " 13  풍속      388795 non-null  float64\n",
            " 14  평일      388795 non-null  int64  \n",
            " 15  금요일     388795 non-null  int64  \n",
            " 16  주말      388795 non-null  int64  \n",
            " 17  공휴일     388795 non-null  int64  \n",
            "dtypes: float64(3), int64(15)\n",
            "memory usage: 56.4 MB\n",
            "<class 'pandas.core.series.Series'>\n",
            "Int64Index: 388795 entries, 339661 to 121958\n",
            "Series name: 현황\n",
            "Non-Null Count   Dtype\n",
            "--------------   -----\n",
            "388795 non-null  int64\n",
            "dtypes: int64(1)\n",
            "memory usage: 5.9 MB\n"
          ]
        }
      ]
    },
    {
      "cell_type": "code",
      "source": [
        "model = RandomForestClassifier(n_estimators=100, random_state=42)\n",
        "model.fit(x_train, y_train)\n",
        "\n",
        "y_pred = model.predict(x_test)\n",
        "accuracy = accuracy_score(y_test, y_pred)\n",
        "\n",
        "print(\"정확도:\", accuracy)"
      ],
      "metadata": {
        "colab": {
          "base_uri": "https://localhost:8080/"
        },
        "id": "NkD5WODRpfzn",
        "outputId": "98d15aa5-5e3b-446a-e163-489db7d7c5a8"
      },
      "execution_count": 17,
      "outputs": [
        {
          "output_type": "stream",
          "name": "stdout",
          "text": [
            "정확도: 0.9277564583997778\n"
          ]
        }
      ]
    },
    {
      "cell_type": "code",
      "source": [
        "model = lgb.LGBMClassifier(n_estimators=100, random_state=42)\n",
        "model.fit(x_train, y_train)\n",
        "\n",
        "y_pred = model.predict(x_test)\n",
        "accuracy = accuracy_score(y_test, y_pred)\n",
        "\n",
        "print(\"정확도:\", accuracy)"
      ],
      "metadata": {
        "colab": {
          "base_uri": "https://localhost:8080/"
        },
        "id": "sOKJ4jFrptu3",
        "outputId": "ebd31eb4-e06b-4aa6-d17f-d0171de2bd87"
      },
      "execution_count": 18,
      "outputs": [
        {
          "output_type": "stream",
          "name": "stdout",
          "text": [
            "정확도: 0.9225403553534501\n"
          ]
        }
      ]
    },
    {
      "cell_type": "code",
      "source": [
        "print(calculate_f1_score(y_test, y_pred))"
      ],
      "metadata": {
        "colab": {
          "base_uri": "https://localhost:8080/"
        },
        "id": "TxDIxeXmfrqm",
        "outputId": "66335514-2f8a-454e-a7b2-48a91e4f9f55"
      },
      "execution_count": 19,
      "outputs": [
        {
          "output_type": "stream",
          "name": "stdout",
          "text": [
            "0.9013316771294351\n"
          ]
        }
      ]
    },
    {
      "cell_type": "code",
      "source": [
        "lgb_classifier = lgb.LGBMClassifier()\n",
        "param_grid = {\n",
        "    'n_estimators': [100, 200],\n",
        "    'max_depth': [2, 5, 15]\n",
        "}\n",
        "\n",
        "# 그리드 서치를 학습 데이터에 적용하고 최적의 하이퍼파라미터를 찾기\n",
        "grid_search = GridSearchCV(estimator=lgb_classifier, param_grid=param_grid, cv=10, verbose=2, n_jobs=-1)\n",
        "grid_search.fit(x_train, y_train)\n",
        "\n",
        "# 최적의 하이퍼파라미터 출력\n",
        "print('Best parameters found by grid search:', grid_search.best_params_)\n",
        "\n",
        "# 최적의 모델로 예측 및 정확도 측정\n",
        "y_pred = grid_search.predict(x_test)\n",
        "accuracy = accuracy_score(y_test, y_pred)\n",
        "print('Test accuracy with best parameters:', accuracy)"
      ],
      "metadata": {
        "colab": {
          "base_uri": "https://localhost:8080/"
        },
        "id": "pP3k_C9-qNM-",
        "outputId": "1fb09e38-ddd1-4933-ef2d-86bdb733cd47"
      },
      "execution_count": null,
      "outputs": [
        {
          "output_type": "stream",
          "name": "stdout",
          "text": [
            "Fitting 10 folds for each of 6 candidates, totalling 60 fits\n",
            "Best parameters found by grid search: {'max_depth': 15, 'n_estimators': 200}\n",
            "Test accuracy with best parameters: 0.9450405868373132\n"
          ]
        }
      ]
    },
    {
      "cell_type": "code",
      "source": [],
      "metadata": {
        "id": "0piQFJPuWKSu"
      },
      "execution_count": null,
      "outputs": []
    }
  ]
}
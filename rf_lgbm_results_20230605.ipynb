{
  "cells": [
    {
      "cell_type": "markdown",
      "metadata": {
        "id": "view-in-github",
        "colab_type": "text"
      },
      "source": [
        "<a href=\"https://colab.research.google.com/github/park1NG/MLTeamProject/blob/main/rf_lgbm_results_20230605.ipynb\" target=\"_parent\"><img src=\"https://colab.research.google.com/assets/colab-badge.svg\" alt=\"Open In Colab\"/></a>"
      ]
    },
    {
      "cell_type": "code",
      "execution_count": null,
      "metadata": {
        "colab": {
          "base_uri": "https://localhost:8080/"
        },
        "id": "BDBkebs8frgb",
        "outputId": "6e7c0d31-6a5f-4718-dfae-e9296dcc481f"
      },
      "outputs": [
        {
          "output_type": "stream",
          "name": "stdout",
          "text": [
            "Drive already mounted at /content/drive; to attempt to forcibly remount, call drive.mount(\"/content/drive\", force_remount=True).\n"
          ]
        }
      ],
      "source": [
        "import pandas as pd\n",
        "import numpy as np\n",
        "import os\n",
        "from sklearn.ensemble import RandomForestClassifier\n",
        "from sklearn.preprocessing import LabelEncoder\n",
        "from sklearn.metrics import accuracy_score, precision_recall_fscore_support\n",
        "from sklearn.model_selection import train_test_split, GridSearchCV\n",
        "import lightgbm as lgb\n",
        "\n",
        "from tqdm import tqdm\n",
        "\n",
        "from google.colab import drive\n",
        "drive.mount('/content/drive')\n"
      ]
    },
    {
      "cell_type": "code",
      "execution_count": null,
      "metadata": {
        "colab": {
          "base_uri": "https://localhost:8080/"
        },
        "id": "m1-nU4ICggg4",
        "outputId": "d9e8df97-a259-43ab-cd0c-320639d99f4f"
      },
      "outputs": [
        {
          "output_type": "stream",
          "name": "stdout",
          "text": [
            "/content/drive/MyDrive/Colab Notebooks\n"
          ]
        }
      ],
      "source": [
        "cd /content/drive/MyDrive/Colab Notebooks"
      ]
    },
    {
      "cell_type": "code",
      "execution_count": null,
      "metadata": {
        "id": "7rnQs5Spf1sz"
      },
      "outputs": [],
      "source": [
        "def data_preprocessing(df):\n",
        "    df.dropna()\n",
        "    \n",
        "    df = df.drop(df[df['예상'] == ':'].index)\n",
        "    df = df.drop(df[df['도착'] == ':'].index)\n",
        "\n",
        "    df['연월일'] = df['연월일'].astype(str)\n",
        "    df['년'] = df['연월일'].str[:4].astype(int)\n",
        "    df['월'] = df['연월일'].str[5:7].astype(int)\n",
        "    df['일'] = df['연월일'].str[8:10].astype(int)\n",
        "\n",
        "    df['예상'] = df['예상'].astype(str)\n",
        "    df['예상_1'] = df['예상'].str[:2].astype(int)\n",
        "    df['예상_2'] = df['예상'].str[3:].astype(int)\n",
        "\n",
        "    df['도착'] = df['도착'].astype(str)\n",
        "    df['도착_1'] = df['도착'].str[:2].astype(int)\n",
        "    df['도착_2'] = df['도착'].str[3:].astype(int)\n",
        "\n",
        "    df = df[['년', '월', '일', '항공사', '편명', '출발지', '예상_1', '예상_2', '도착_1', '도착_2', '현황']]\n",
        "    # for col in list(set(df.columns) - set(categorical)):\n",
        "    #     df = df.astypes({col:'float64'})\n",
        "    \n",
        "    categorical = ['항공사', '편명', '출발지', '현황']\n",
        "    label_encoder = LabelEncoder()\n",
        "    for col in categorical:\n",
        "        df[col] = label_encoder.fit_transform(df[col])\n",
        "        df = df.astype({col:'int'})\n",
        "\n",
        "    df.info()\n",
        "\n",
        "    return df\n"
      ]
    },
    {
      "cell_type": "code",
      "execution_count": null,
      "metadata": {
        "id": "3GCDcTXUcZZ3"
      },
      "outputs": [],
      "source": [
        "def calculate_f1_score(y_true, y_pred):\n",
        "    # 정밀도, 재현율, F1 점수 계산\n",
        "    # micro, macro, samples, weighted\n",
        "    # weighted는 클래스의 빈도수에 따라 중요도를 부여하기 때문에, 샘플 수가 적은 클래스에 더 큰 가중치를 부여\n",
        "    precision, recall, f1, _ = precision_recall_fscore_support(y_true, y_pred, average='weighted')\n",
        "    \n",
        "    return f1"
      ]
    },
    {
      "cell_type": "markdown",
      "metadata": {
        "id": "gcEFVc5TdU4d"
      },
      "source": [
        "## 0번째 데이터 (file name: train_airportal.csv, test_airportal.csv) \n",
        "\n",
        "## 년, 월, 일, 항공사, 편명, 출발지, 예상_1, 예상_2, 도착_1, 도착_2, 현황"
      ]
    },
    {
      "cell_type": "code",
      "execution_count": null,
      "metadata": {
        "colab": {
          "base_uri": "https://localhost:8080/"
        },
        "id": "4FQXbW7ff4sn",
        "outputId": "9fbbbc0e-c08a-4dcc-9baa-c2d0c816ed25"
      },
      "outputs": [
        {
          "name": "stdout",
          "output_type": "stream",
          "text": [
            "출발    444548\n",
            "지연     44655\n",
            "취소       634\n",
            "회항       199\n",
            "Name: 현황, dtype: int64\n",
            "<class 'pandas.core.frame.DataFrame'>\n",
            "Int64Index: 487399 entries, 0 to 490035\n",
            "Data columns (total 11 columns):\n",
            " #   Column  Non-Null Count   Dtype\n",
            "---  ------  --------------   -----\n",
            " 0   년       487399 non-null  int64\n",
            " 1   월       487399 non-null  int64\n",
            " 2   일       487399 non-null  int64\n",
            " 3   항공사     487399 non-null  int64\n",
            " 4   편명      487399 non-null  int64\n",
            " 5   출발지     487399 non-null  int64\n",
            " 6   예상_1    487399 non-null  int64\n",
            " 7   예상_2    487399 non-null  int64\n",
            " 8   도착_1    487399 non-null  int64\n",
            " 9   도착_2    487399 non-null  int64\n",
            " 10  현황      487399 non-null  int64\n",
            "dtypes: int64(11)\n",
            "memory usage: 44.6 MB\n",
            "<class 'pandas.core.frame.DataFrame'>\n",
            "Int64Index: 182019 entries, 0 to 184516\n",
            "Data columns (total 11 columns):\n",
            " #   Column  Non-Null Count   Dtype\n",
            "---  ------  --------------   -----\n",
            " 0   년       182019 non-null  int64\n",
            " 1   월       182019 non-null  int64\n",
            " 2   일       182019 non-null  int64\n",
            " 3   항공사     182019 non-null  int64\n",
            " 4   편명      182019 non-null  int64\n",
            " 5   출발지     182019 non-null  int64\n",
            " 6   예상_1    182019 non-null  int64\n",
            " 7   예상_2    182019 non-null  int64\n",
            " 8   도착_1    182019 non-null  int64\n",
            " 9   도착_2    182019 non-null  int64\n",
            " 10  현황      182019 non-null  int64\n",
            "dtypes: int64(11)\n",
            "memory usage: 16.7 MB\n",
            "<class 'pandas.core.frame.DataFrame'>\n",
            "Int64Index: 182019 entries, 0 to 184516\n",
            "Data columns (total 10 columns):\n",
            " #   Column  Non-Null Count   Dtype\n",
            "---  ------  --------------   -----\n",
            " 0   년       182019 non-null  int64\n",
            " 1   월       182019 non-null  int64\n",
            " 2   일       182019 non-null  int64\n",
            " 3   항공사     182019 non-null  int64\n",
            " 4   편명      182019 non-null  int64\n",
            " 5   출발지     182019 non-null  int64\n",
            " 6   예상_1    182019 non-null  int64\n",
            " 7   예상_2    182019 non-null  int64\n",
            " 8   도착_1    182019 non-null  int64\n",
            " 9   도착_2    182019 non-null  int64\n",
            "dtypes: int64(10)\n",
            "memory usage: 15.3 MB\n",
            "None\n",
            "<class 'pandas.core.series.Series'>\n",
            "Int64Index: 182019 entries, 0 to 184516\n",
            "Series name: 현황\n",
            "Non-Null Count   Dtype\n",
            "--------------   -----\n",
            "182019 non-null  int64\n",
            "dtypes: int64(1)\n",
            "memory usage: 2.8 MB\n",
            "None\n"
          ]
        }
      ],
      "source": [
        "data_train = pd.read_csv('./train_airportal.csv')\n",
        "print(data_train['현황'].value_counts())\n",
        "data_train = data_preprocessing(data_train)\n",
        "\n",
        "data_test = pd.read_csv('./test_airportal.csv')\n",
        "data_test = data_preprocessing(data_test)\n",
        "\n",
        "\n",
        "x_train_tmp = data_train.iloc[:, :10]  # 0번부터 7번 열까지를 X로 설정\n",
        "y_train_tmp = data_train.iloc[:, 10]   # 8번 열을 y로 설정\n",
        "\n",
        "x_test_tmp = data_test.iloc[:, :10]  # 0번부터 7번 열까지를 X로 설정\n",
        "y_test_tmp = data_test.iloc[:, 10]   # 8번 열을 y로 설정\n",
        "\n",
        "print(x_test_tmp.info())\n",
        "print(y_test_tmp.info())"
      ]
    },
    {
      "cell_type": "code",
      "execution_count": null,
      "metadata": {
        "colab": {
          "base_uri": "https://localhost:8080/"
        },
        "id": "dqnhoNL8f6C6",
        "outputId": "353bbbaf-7ace-435b-b8cd-bc0104cbae98"
      },
      "outputs": [
        {
          "name": "stdout",
          "output_type": "stream",
          "text": [
            "정확도: 0.8218867261110104\n"
          ]
        }
      ],
      "source": [
        "model = RandomForestClassifier(n_estimators=100, random_state=42)\n",
        "model.fit(x_train_tmp, y_train_tmp)\n",
        "\n",
        "y_pred = model.predict(x_test_tmp)\n",
        "accuracy = accuracy_score(y_test_tmp, y_pred)\n",
        "\n",
        "print(\"정확도:\", accuracy)"
      ]
    },
    {
      "cell_type": "code",
      "execution_count": null,
      "metadata": {
        "colab": {
          "base_uri": "https://localhost:8080/"
        },
        "id": "s61Tbrm4ij7Y",
        "outputId": "042a6f0e-d141-4e61-feb3-46035659c82f"
      },
      "outputs": [
        {
          "name": "stdout",
          "output_type": "stream",
          "text": [
            "0.8588758767310122\n"
          ]
        },
        {
          "name": "stderr",
          "output_type": "stream",
          "text": [
            "/usr/local/lib/python3.10/dist-packages/sklearn/metrics/_classification.py:1344: UndefinedMetricWarning: Precision and F-score are ill-defined and being set to 0.0 in labels with no predicted samples. Use `zero_division` parameter to control this behavior.\n",
            "  _warn_prf(average, modifier, msg_start, len(result))\n"
          ]
        }
      ],
      "source": [
        "print(calculate_f1_score(y_test_tmp, y_pred))"
      ]
    },
    {
      "cell_type": "code",
      "execution_count": null,
      "metadata": {
        "colab": {
          "base_uri": "https://localhost:8080/"
        },
        "id": "_sS9sa2Xiqg5",
        "outputId": "6d21b5ef-ef19-41e0-b4ae-bd966442f188"
      },
      "outputs": [
        {
          "name": "stdout",
          "output_type": "stream",
          "text": [
            "정확도: 0.9342705981243716\n"
          ]
        }
      ],
      "source": [
        "model = lgb.LGBMClassifier(n_estimators=100, random_state=42)\n",
        "model.fit(x_train_tmp, y_train_tmp)\n",
        "\n",
        "y_pred = model.predict(x_test_tmp)\n",
        "accuracy = accuracy_score(y_test_tmp, y_pred)\n",
        "\n",
        "print(\"정확도:\", accuracy)"
      ]
    },
    {
      "cell_type": "code",
      "execution_count": null,
      "metadata": {
        "colab": {
          "base_uri": "https://localhost:8080/"
        },
        "id": "XwiTBdJVlvz7",
        "outputId": "6d213f6b-7109-4960-dcb1-edd016002c35"
      },
      "outputs": [
        {
          "name": "stdout",
          "output_type": "stream",
          "text": [
            "0.9265630879197277\n"
          ]
        }
      ],
      "source": [
        "print(calculate_f1_score(y_test_tmp, y_pred))"
      ]
    },
    {
      "cell_type": "markdown",
      "metadata": {
        "id": "BR0-5NOTfE2T"
      },
      "source": [
        "## 1번째 데이터 (file name: 승객+편수16_18.csv, 승객+편수19.csv) \n",
        "\n",
        "## 예상_승객, 운행_편수 추가"
      ]
    },
    {
      "cell_type": "code",
      "execution_count": null,
      "metadata": {
        "colab": {
          "base_uri": "https://localhost:8080/"
        },
        "id": "7IQ1RsjCgdmE",
        "outputId": "055b318b-1da4-44c5-f5d4-b5b5d651065b"
      },
      "outputs": [
        {
          "name": "stdout",
          "output_type": "stream",
          "text": [
            "<class 'pandas.core.frame.DataFrame'>\n",
            "RangeIndex: 487255 entries, 0 to 487254\n",
            "Data columns (total 11 columns):\n",
            " #   Column  Non-Null Count   Dtype\n",
            "---  ------  --------------   -----\n",
            " 0   년       487255 non-null  int64\n",
            " 1   월       487255 non-null  int64\n",
            " 2   일       487255 non-null  int64\n",
            " 3   항공사     487255 non-null  int64\n",
            " 4   편명      487255 non-null  int64\n",
            " 5   출발지     487255 non-null  int64\n",
            " 6   예상_1    487255 non-null  int64\n",
            " 7   예상_2    487255 non-null  int64\n",
            " 8   현황      487255 non-null  int64\n",
            " 9   예상_승객   487255 non-null  int64\n",
            " 10  운항편수    487255 non-null  int64\n",
            "dtypes: int64(11)\n",
            "memory usage: 40.9 MB\n",
            "<class 'pandas.core.frame.DataFrame'>\n",
            "RangeIndex: 181586 entries, 0 to 181585\n",
            "Data columns (total 11 columns):\n",
            " #   Column  Non-Null Count   Dtype\n",
            "---  ------  --------------   -----\n",
            " 0   년       181586 non-null  int64\n",
            " 1   월       181586 non-null  int64\n",
            " 2   일       181586 non-null  int64\n",
            " 3   항공사     181586 non-null  int64\n",
            " 4   편명      181586 non-null  int64\n",
            " 5   출발지     181586 non-null  int64\n",
            " 6   예상_1    181586 non-null  int64\n",
            " 7   예상_2    181586 non-null  int64\n",
            " 8   현황      181586 non-null  int64\n",
            " 9   예상_승객   181586 non-null  int64\n",
            " 10  운항편수    181586 non-null  int64\n",
            "dtypes: int64(11)\n",
            "memory usage: 15.2 MB\n"
          ]
        }
      ],
      "source": [
        "first_train = pd.read_csv('승객+편수16_18.csv')\n",
        "first_test = pd.read_csv('승객+편수19.csv')\n",
        "\n",
        "first_train.info()\n",
        "first_test.info()"
      ]
    },
    {
      "cell_type": "code",
      "execution_count": null,
      "metadata": {
        "colab": {
          "base_uri": "https://localhost:8080/"
        },
        "id": "LGVK5p_kgwKV",
        "outputId": "68ad873d-232c-4d0d-fabb-092d0ede4d1a"
      },
      "outputs": [
        {
          "name": "stdout",
          "output_type": "stream",
          "text": [
            "<class 'pandas.core.frame.DataFrame'>\n",
            "RangeIndex: 487255 entries, 0 to 487254\n",
            "Data columns (total 10 columns):\n",
            " #   Column  Non-Null Count   Dtype\n",
            "---  ------  --------------   -----\n",
            " 0   년       487255 non-null  int64\n",
            " 1   월       487255 non-null  int64\n",
            " 2   일       487255 non-null  int64\n",
            " 3   항공사     487255 non-null  int64\n",
            " 4   편명      487255 non-null  int64\n",
            " 5   출발지     487255 non-null  int64\n",
            " 6   예상_1    487255 non-null  int64\n",
            " 7   예상_2    487255 non-null  int64\n",
            " 8   예상_승객   487255 non-null  int64\n",
            " 9   운항편수    487255 non-null  int64\n",
            "dtypes: int64(10)\n",
            "memory usage: 37.2 MB\n",
            "<class 'pandas.core.series.Series'>\n",
            "RangeIndex: 487255 entries, 0 to 487254\n",
            "Series name: 현황\n",
            "Non-Null Count   Dtype\n",
            "--------------   -----\n",
            "487255 non-null  int64\n",
            "dtypes: int64(1)\n",
            "memory usage: 3.7 MB\n"
          ]
        }
      ],
      "source": [
        "tmp1, tmp2 = first_train.iloc[:, :8], first_train.iloc[:, 9:]\n",
        "x_train = pd.concat([tmp1, tmp2], axis=1)\n",
        "y_train = first_train.iloc[:, 8]\n",
        "\n",
        "tmp1, tmp2 = first_test.iloc[:, :8], first_test.iloc[:, 9:]\n",
        "x_test = pd.concat([tmp1, tmp2], axis=1)\n",
        "y_test = first_test.iloc[:, 8]\n",
        "\n",
        "x_train.info()\n",
        "y_train.info()"
      ]
    },
    {
      "cell_type": "code",
      "execution_count": null,
      "metadata": {
        "colab": {
          "base_uri": "https://localhost:8080/"
        },
        "id": "LKdR9c8gjHHz",
        "outputId": "2f56778d-ae42-448b-ef34-20d3eb2fde73"
      },
      "outputs": [
        {
          "name": "stdout",
          "output_type": "stream",
          "text": [
            "정확도: 0.8947716233630346\n"
          ]
        }
      ],
      "source": [
        "model = RandomForestClassifier(n_estimators=100, random_state=42)\n",
        "model.fit(x_train, y_train)\n",
        "\n",
        "y_pred = model.predict(x_test)\n",
        "accuracy = accuracy_score(y_test, y_pred)\n",
        "\n",
        "print(\"정확도:\", accuracy)"
      ]
    },
    {
      "cell_type": "code",
      "execution_count": null,
      "metadata": {
        "colab": {
          "base_uri": "https://localhost:8080/"
        },
        "id": "U2As6AfCjrhp",
        "outputId": "bc3da075-524f-491c-8307-0f6b8ed3e9b0"
      },
      "outputs": [
        {
          "name": "stdout",
          "output_type": "stream",
          "text": [
            "0.8973532629422621\n"
          ]
        }
      ],
      "source": [
        "print(calculate_f1_score(y_test, y_pred))"
      ]
    },
    {
      "cell_type": "code",
      "execution_count": null,
      "metadata": {
        "colab": {
          "base_uri": "https://localhost:8080/"
        },
        "id": "Y2b9eqDjjvQN",
        "outputId": "e8c2c50e-1485-4095-b69c-173c1d83e2b9"
      },
      "outputs": [
        {
          "name": "stdout",
          "output_type": "stream",
          "text": [
            "정확도: 0.9098829204894651\n"
          ]
        }
      ],
      "source": [
        "model = lgb.LGBMClassifier(n_estimators=100, random_state=42)\n",
        "model.fit(x_train, y_train)\n",
        "\n",
        "y_pred = model.predict(x_test)\n",
        "accuracy = accuracy_score(y_test, y_pred)\n",
        "\n",
        "print(\"정확도:\", accuracy)"
      ]
    },
    {
      "cell_type": "code",
      "execution_count": null,
      "metadata": {
        "colab": {
          "base_uri": "https://localhost:8080/"
        },
        "id": "lZgDUEXkjx4J",
        "outputId": "97f5befb-b936-410c-9485-1e0c64d0ae92"
      },
      "outputs": [
        {
          "name": "stdout",
          "output_type": "stream",
          "text": [
            "0.9054245584171872\n"
          ]
        }
      ],
      "source": [
        "print(calculate_f1_score(y_test, y_pred))"
      ]
    },
    {
      "cell_type": "markdown",
      "metadata": {
        "id": "pA0EqQPwk_5n"
      },
      "source": [
        "## 2번째 데이터 (file name:승객+편수+날씨16_18, 승객+편수+날씨19) \n",
        "\n",
        "## 실제 출발 시간 drop 적용\n",
        "\n",
        "## 가시거리, 온도, 풍속 추가"
      ]
    },
    {
      "cell_type": "code",
      "execution_count": null,
      "metadata": {
        "colab": {
          "base_uri": "https://localhost:8080/"
        },
        "id": "EREKPKYbjyhc",
        "outputId": "44d841a4-d2b1-4d47-9ab4-a601d9b03ffa"
      },
      "outputs": [
        {
          "output_type": "stream",
          "name": "stdout",
          "text": [
            "<class 'pandas.core.frame.DataFrame'>\n",
            "RangeIndex: 485851 entries, 0 to 485850\n",
            "Data columns (total 15 columns):\n",
            " #   Column  Non-Null Count   Dtype  \n",
            "---  ------  --------------   -----  \n",
            " 0   년       485851 non-null  int64  \n",
            " 1   월       485851 non-null  int64  \n",
            " 2   일       485851 non-null  int64  \n",
            " 3   항공사     485851 non-null  int64  \n",
            " 4   편명      485851 non-null  int64  \n",
            " 5   출발지     485851 non-null  int64  \n",
            " 6   예상_1    485851 non-null  int64  \n",
            " 7   예상_2    485851 non-null  int64  \n",
            " 8   현황      485851 non-null  int64  \n",
            " 9   예상_승객   485851 non-null  int64  \n",
            " 10  운항편수    485851 non-null  int64  \n",
            " 11  Count   485851 non-null  int64  \n",
            " 12  가시거리    485851 non-null  float64\n",
            " 13  온도      485851 non-null  float64\n",
            " 14  풍속      485851 non-null  float64\n",
            "dtypes: float64(3), int64(12)\n",
            "memory usage: 55.6 MB\n",
            "<class 'pandas.core.frame.DataFrame'>\n",
            "RangeIndex: 181112 entries, 0 to 181111\n",
            "Data columns (total 15 columns):\n",
            " #   Column  Non-Null Count   Dtype  \n",
            "---  ------  --------------   -----  \n",
            " 0   년       181112 non-null  int64  \n",
            " 1   월       181112 non-null  int64  \n",
            " 2   일       181112 non-null  int64  \n",
            " 3   항공사     181112 non-null  int64  \n",
            " 4   편명      181112 non-null  int64  \n",
            " 5   출발지     181112 non-null  int64  \n",
            " 6   예상_1    181112 non-null  int64  \n",
            " 7   예상_2    181112 non-null  int64  \n",
            " 8   현황      181112 non-null  int64  \n",
            " 9   예상_승객   181112 non-null  int64  \n",
            " 10  운항편수    181112 non-null  int64  \n",
            " 11  Count   181112 non-null  int64  \n",
            " 12  가시거리    181112 non-null  float64\n",
            " 13  온도      181112 non-null  float64\n",
            " 14  풍속      181112 non-null  float64\n",
            "dtypes: float64(3), int64(12)\n",
            "memory usage: 20.7 MB\n"
          ]
        }
      ],
      "source": [
        "second_train = pd.read_csv('승객+편수+날씨16_18.csv')\n",
        "second_test = pd.read_csv('승객+편수+날씨19.csv')\n",
        "\n",
        "second_train.info()\n",
        "second_test.info()"
      ]
    },
    {
      "cell_type": "code",
      "execution_count": null,
      "metadata": {
        "colab": {
          "base_uri": "https://localhost:8080/"
        },
        "id": "SIHaqzzLoHvQ",
        "outputId": "837a02d5-6da1-4773-ae1b-3dc4c4e98eae"
      },
      "outputs": [
        {
          "output_type": "stream",
          "name": "stdout",
          "text": [
            "<class 'pandas.core.frame.DataFrame'>\n",
            "RangeIndex: 485851 entries, 0 to 485850\n",
            "Data columns (total 14 columns):\n",
            " #   Column  Non-Null Count   Dtype  \n",
            "---  ------  --------------   -----  \n",
            " 0   년       485851 non-null  int64  \n",
            " 1   월       485851 non-null  int64  \n",
            " 2   일       485851 non-null  int64  \n",
            " 3   항공사     485851 non-null  int64  \n",
            " 4   편명      485851 non-null  int64  \n",
            " 5   출발지     485851 non-null  int64  \n",
            " 6   예상_1    485851 non-null  int64  \n",
            " 7   예상_2    485851 non-null  int64  \n",
            " 8   예상_승객   485851 non-null  int64  \n",
            " 9   운항편수    485851 non-null  int64  \n",
            " 10  Count   485851 non-null  int64  \n",
            " 11  가시거리    485851 non-null  float64\n",
            " 12  온도      485851 non-null  float64\n",
            " 13  풍속      485851 non-null  float64\n",
            "dtypes: float64(3), int64(11)\n",
            "memory usage: 51.9 MB\n",
            "<class 'pandas.core.series.Series'>\n",
            "RangeIndex: 485851 entries, 0 to 485850\n",
            "Series name: 현황\n",
            "Non-Null Count   Dtype\n",
            "--------------   -----\n",
            "485851 non-null  int64\n",
            "dtypes: int64(1)\n",
            "memory usage: 3.7 MB\n"
          ]
        }
      ],
      "source": [
        "tmp1, tmp2 = second_train.iloc[:, :8], second_train.iloc[:, 9:]\n",
        "x_train = pd.concat([tmp1, tmp2], axis=1)\n",
        "y_train = second_train.iloc[:, 8]\n",
        "\n",
        "tmp1, tmp2 = second_test.iloc[:, :8], second_test.iloc[:, 9:]\n",
        "x_test = pd.concat([tmp1, tmp2], axis=1)\n",
        "y_test = second_test.iloc[:, 8]\n",
        "\n",
        "x_train.info()\n",
        "y_train.info()"
      ]
    },
    {
      "cell_type": "code",
      "execution_count": null,
      "metadata": {
        "colab": {
          "base_uri": "https://localhost:8080/"
        },
        "id": "NkD5WODRpfzn",
        "outputId": "0b92f26b-9bd5-4696-bb12-53404f3f45af"
      },
      "outputs": [
        {
          "name": "stdout",
          "output_type": "stream",
          "text": [
            "정확도: 0.9292813286805954\n"
          ]
        }
      ],
      "source": [
        "model = RandomForestClassifier(n_estimators=100, random_state=42)\n",
        "model.fit(x_train, y_train)\n",
        "\n",
        "y_pred = model.predict(x_test)\n",
        "accuracy = accuracy_score(y_test, y_pred)\n",
        "\n",
        "print(\"정확도:\", accuracy)"
      ]
    },
    {
      "cell_type": "code",
      "execution_count": null,
      "metadata": {
        "colab": {
          "base_uri": "https://localhost:8080/"
        },
        "id": "vtb0EfZj8864",
        "outputId": "e191f91d-f5d9-4663-c02a-f4f9234e57f6"
      },
      "outputs": [
        {
          "name": "stdout",
          "output_type": "stream",
          "text": [
            "0.9090970572550255\n"
          ]
        }
      ],
      "source": [
        "print(calculate_f1_score(y_test, y_pred))"
      ]
    },
    {
      "cell_type": "code",
      "execution_count": null,
      "metadata": {
        "colab": {
          "base_uri": "https://localhost:8080/"
        },
        "id": "jthdYlhH_-Vu",
        "outputId": "34e25323-8285-4db0-a02e-ccbdfe5eee8c"
      },
      "outputs": [
        {
          "name": "stdout",
          "output_type": "stream",
          "text": [
            "Feature 년: 0.0192\n",
            "Feature 월: 0.0318\n",
            "Feature 일: 0.053\n",
            "Feature 항공사: 0.0749\n",
            "Feature 편명: 0.157\n",
            "Feature 출발지: 0.1301\n",
            "Feature 예상_1: 0.0699\n",
            "Feature 예상_2: 0.1156\n",
            "Feature 예상_승객: 0.0895\n",
            "Feature 운항편수: 0.0669\n",
            "Feature Count: 0.0125\n",
            "Feature 가시거리: 0.044\n",
            "Feature 온도: 0.0763\n",
            "Feature 풍속: 0.0592\n"
          ]
        }
      ],
      "source": [
        "importances = model.feature_importances_\n",
        "for i, importance in enumerate(importances):\n",
        "    print(f\"Feature {x_train.columns[i]}: {round(importance, 4)}\")"
      ]
    },
    {
      "cell_type": "code",
      "execution_count": null,
      "metadata": {
        "colab": {
          "base_uri": "https://localhost:8080/"
        },
        "id": "sOKJ4jFrptu3",
        "outputId": "ec87ab6e-e275-4153-f6dc-89a70a057d8f"
      },
      "outputs": [
        {
          "name": "stdout",
          "output_type": "stream",
          "text": [
            "정확도: 0.8769159415168515\n"
          ]
        }
      ],
      "source": [
        "model = lgb.LGBMClassifier(n_estimators=100, random_state=42)\n",
        "model.fit(x_train, y_train)\n",
        "\n",
        "y_pred = model.predict(x_test)\n",
        "accuracy = accuracy_score(y_test, y_pred)\n",
        "\n",
        "print(\"정확도:\", accuracy)"
      ]
    },
    {
      "cell_type": "code",
      "execution_count": null,
      "metadata": {
        "colab": {
          "base_uri": "https://localhost:8080/"
        },
        "id": "TxDIxeXmfrqm",
        "outputId": "9d501369-c1ce-491e-cf59-4790dbe18f43"
      },
      "outputs": [
        {
          "name": "stdout",
          "output_type": "stream",
          "text": [
            "0.8860154688359566\n"
          ]
        }
      ],
      "source": [
        "print(calculate_f1_score(y_test, y_pred))"
      ]
    },
    {
      "cell_type": "code",
      "execution_count": null,
      "metadata": {
        "colab": {
          "base_uri": "https://localhost:8080/"
        },
        "id": "llL6HjcbAGSb",
        "outputId": "9afb947e-1160-4dc8-cfff-155ed30c09d5"
      },
      "outputs": [
        {
          "name": "stdout",
          "output_type": "stream",
          "text": [
            "Feature 년: 0.045\n",
            "Feature 월: 0.0453\n",
            "Feature 일: 0.0347\n",
            "Feature 항공사: 0.0873\n",
            "Feature 편명: 0.161\n",
            "Feature 출발지: 0.111\n",
            "Feature 예상_1: 0.1867\n",
            "Feature 예상_2: 0.1047\n",
            "Feature 예상_승객: 0.0317\n",
            "Feature 운항편수: 0.0577\n",
            "Feature Count: 0.0\n",
            "Feature 가시거리: 0.0413\n",
            "Feature 온도: 0.0647\n",
            "Feature 풍속: 0.029\n"
          ]
        }
      ],
      "source": [
        "importances = model.feature_importances_\n",
        "total = sum(importances)\n",
        "for i, importance in enumerate(importances):\n",
        "    print(f\"Feature {x_train.columns[i]}: {round(importance/total, 4)}\")"
      ]
    },
    {
      "cell_type": "code",
      "execution_count": null,
      "metadata": {
        "colab": {
          "base_uri": "https://localhost:8080/"
        },
        "id": "nIBSlbAPGvkr",
        "outputId": "9ddd6d1a-759b-4a61-b30d-6c9acd237d89"
      },
      "outputs": [
        {
          "output_type": "stream",
          "name": "stdout",
          "text": [
            "Fitting 5 folds for each of 72 candidates, totalling 360 fits\n",
            "Best parameters found by grid search: {'max_depth': 5, 'max_features': 'sqrt', 'min_samples_leaf': 1, 'min_samples_split': 5, 'n_estimators': 100}\n",
            "Test accuracy with best parameters: 0.9403573479393966\n"
          ]
        }
      ],
      "source": [
        "rf_classifier = RandomForestClassifier()\n",
        "param_grid = {\n",
        "    'n_estimators': [100, 200],  # 나무의 개수\n",
        "    'max_depth': [5, 10, 15],  # 나무의 최대 깊이\n",
        "    'min_samples_split': [5, 10],  # 분할을 위한 최소 샘플 수\n",
        "    'min_samples_leaf': [1, 2, 4],  # 단말 노드의 최소 샘플 수\n",
        "    'max_features': ['sqrt', 'log2']  # 분할을 위해 고려할 최대 특성 수\n",
        "}\n",
        "\n",
        "# 그리드 서치를 학습 데이터에 적용하고 최적의 하이퍼파라미터를 찾기\n",
        "grid_search = GridSearchCV(estimator=rf_classifier, param_grid=param_grid, cv=5, verbose=2, n_jobs=-1)\n",
        "grid_search.fit(x_train, y_train)\n",
        "\n",
        "# 최적의 하이퍼파라미터 출력\n",
        "print('Best parameters found by grid search:', grid_search.best_params_)\n",
        "\n",
        "# 최적의 모델로 예측 및 정확도 측정\n",
        "y_pred = grid_search.predict(x_test)\n",
        "accuracy = accuracy_score(y_test, y_pred)\n",
        "print('Test accuracy with best parameters:', accuracy)"
      ]
    },
    {
      "cell_type": "code",
      "execution_count": null,
      "metadata": {
        "colab": {
          "base_uri": "https://localhost:8080/"
        },
        "id": "Tlnm_aG9Fa-E",
        "outputId": "440638c5-98b0-4993-f321-a543360289cf"
      },
      "outputs": [
        {
          "output_type": "stream",
          "name": "stdout",
          "text": [
            "Fitting 5 folds for each of 108 candidates, totalling 540 fits\n",
            "Best parameters found by grid search: {'learning_rate': 0.05, 'max_depth': 5, 'min_child_samples': 250, 'n_estimators': 100, 'num_leaves': 63}\n",
            "Test accuracy with best parameters: 0.9409039710234551\n"
          ]
        }
      ],
      "source": [
        "lgb_classifier = lgb.LGBMClassifier()\n",
        "param_grid = {\n",
        "    'n_estimators': [100, 200],\n",
        "    'max_depth': [2, 5, 15],\n",
        "    'num_leaves': [31, 63, 127],\n",
        "    'learning_rate': [0.01, 0.05],\n",
        "    'min_child_samples': [100, 200, 250],\n",
        "}\n",
        "\n",
        "# 그리드 서치를 학습 데이터에 적용하고 최적의 하이퍼파라미터를 찾기\n",
        "grid_search = GridSearchCV(estimator=lgb_classifier, param_grid=param_grid, cv=5, verbose=2, n_jobs=-1)\n",
        "grid_search.fit(x_train, y_train)\n",
        "\n",
        "# 최적의 하이퍼파라미터 출력\n",
        "print('Best parameters found by grid search:', grid_search.best_params_)\n",
        "\n",
        "# 최적의 모델로 예측 및 정확도 측정\n",
        "y_pred = grid_search.predict(x_test)\n",
        "accuracy = accuracy_score(y_test, y_pred)\n",
        "print('Test accuracy with best parameters:', accuracy)"
      ]
    },
    {
      "cell_type": "code",
      "source": [
        "print(calculate_f1_score(y_test, y_pred))"
      ],
      "metadata": {
        "colab": {
          "base_uri": "https://localhost:8080/"
        },
        "id": "BBS36GylxYSe",
        "outputId": "c29a3b41-3c6b-41d9-baa2-9fd53d8f0553"
      },
      "execution_count": null,
      "outputs": [
        {
          "output_type": "stream",
          "name": "stdout",
          "text": [
            "0.9135754411908189\n"
          ]
        }
      ]
    },
    {
      "cell_type": "markdown",
      "metadata": {
        "id": "UPjdCfTDA26p"
      },
      "source": [
        "## 3번째 데이터 (file name:승객+편수+날씨+공휴일16_18, 승객+편수+날씨+공휴일19) \n",
        "\n",
        "## 실제 출발 시간 drop 적용\n",
        "\n",
        "## 평일, 금요일, 주말, 공휴일 추가"
      ]
    },
    {
      "cell_type": "code",
      "execution_count": null,
      "metadata": {
        "colab": {
          "base_uri": "https://localhost:8080/"
        },
        "id": "bLuEnFzABCZN",
        "outputId": "47027870-b673-4c25-98b4-c1a719904b9e"
      },
      "outputs": [
        {
          "output_type": "stream",
          "name": "stdout",
          "text": [
            "<class 'pandas.core.frame.DataFrame'>\n",
            "RangeIndex: 485994 entries, 0 to 485993\n",
            "Data columns (total 19 columns):\n",
            " #   Column  Non-Null Count   Dtype  \n",
            "---  ------  --------------   -----  \n",
            " 0   년       485994 non-null  int64  \n",
            " 1   월       485994 non-null  int64  \n",
            " 2   일       485994 non-null  int64  \n",
            " 3   항공사     485994 non-null  int64  \n",
            " 4   편명      485994 non-null  int64  \n",
            " 5   출발지     485994 non-null  int64  \n",
            " 6   예상_1    485994 non-null  int64  \n",
            " 7   예상_2    485994 non-null  int64  \n",
            " 8   현황      485994 non-null  int64  \n",
            " 9   예상_승객   485994 non-null  int64  \n",
            " 10  운행_편수   485994 non-null  int64  \n",
            " 11  Count   485994 non-null  int64  \n",
            " 12  가시거리    485994 non-null  float64\n",
            " 13  온도      485994 non-null  float64\n",
            " 14  풍속      485994 non-null  float64\n",
            " 15  평일      485994 non-null  int64  \n",
            " 16  금요일     485994 non-null  int64  \n",
            " 17  주말      485994 non-null  int64  \n",
            " 18  공휴일     485994 non-null  int64  \n",
            "dtypes: float64(3), int64(16)\n",
            "memory usage: 70.4 MB\n"
          ]
        }
      ],
      "source": [
        "third_train = pd.read_csv('holidays_with_weather_fin.csv')\n",
        "third_train = third_train.drop(labels=['도착_1', '도착_2'], axis=1)\n",
        "third_train.info()"
      ]
    },
    {
      "cell_type": "code",
      "execution_count": null,
      "metadata": {
        "id": "KecJSqkVBiTb"
      },
      "outputs": [],
      "source": [
        "tmp1, tmp2 = third_train.iloc[:, :8], third_train.iloc[:, 9:]\n",
        "x = pd.concat([tmp1, tmp2], axis=1)\n",
        "y = third_train.iloc[:, 8]"
      ]
    },
    {
      "cell_type": "code",
      "execution_count": null,
      "metadata": {
        "id": "AKOel1x0Bt0d"
      },
      "outputs": [],
      "source": [
        "x_train, x_test, y_train, y_test = train_test_split(x, y, test_size=0.3, random_state=42)"
      ]
    },
    {
      "cell_type": "code",
      "execution_count": null,
      "metadata": {
        "colab": {
          "base_uri": "https://localhost:8080/"
        },
        "id": "_PfddLIPCpr1",
        "outputId": "5b55a4e4-1bac-42c2-8c71-5166eeac4f11"
      },
      "outputs": [
        {
          "output_type": "stream",
          "name": "stdout",
          "text": [
            "정확도: 0.9261174630827372\n"
          ]
        }
      ],
      "source": [
        "model = RandomForestClassifier(n_estimators=100, random_state=42)\n",
        "model.fit(x_train, y_train)\n",
        "\n",
        "y_pred = model.predict(x_test)\n",
        "accuracy = accuracy_score(y_test, y_pred)\n",
        "\n",
        "print(\"정확도:\", accuracy)"
      ]
    },
    {
      "cell_type": "code",
      "execution_count": null,
      "metadata": {
        "colab": {
          "base_uri": "https://localhost:8080/"
        },
        "id": "D6lJPY4xCwlo",
        "outputId": "165a9fbc-e8c7-4c8f-fdce-b9afc16e54d4"
      },
      "outputs": [
        {
          "output_type": "stream",
          "name": "stdout",
          "text": [
            "0.9081851356587392\n"
          ]
        },
        {
          "output_type": "stream",
          "name": "stderr",
          "text": [
            "/usr/local/lib/python3.10/dist-packages/sklearn/metrics/_classification.py:1344: UndefinedMetricWarning: Precision and F-score are ill-defined and being set to 0.0 in labels with no predicted samples. Use `zero_division` parameter to control this behavior.\n",
            "  _warn_prf(average, modifier, msg_start, len(result))\n"
          ]
        }
      ],
      "source": [
        "print(calculate_f1_score(y_test, y_pred))"
      ]
    },
    {
      "cell_type": "code",
      "execution_count": null,
      "metadata": {
        "colab": {
          "base_uri": "https://localhost:8080/"
        },
        "id": "DMa4linMCy3D",
        "outputId": "f0c3d6c4-dd05-4ea5-f39b-ab35fa7752a2"
      },
      "outputs": [
        {
          "output_type": "stream",
          "name": "stdout",
          "text": [
            "Feature 년: 0.0176\n",
            "Feature 월: 0.0319\n",
            "Feature 일: 0.0501\n",
            "Feature 항공사: 0.0718\n",
            "Feature 편명: 0.1433\n",
            "Feature 출발지: 0.119\n",
            "Feature 예상_1: 0.083\n",
            "Feature 예상_2: 0.1058\n",
            "Feature 예상_승객: 0.1011\n",
            "Feature 운행_편수: 0.0634\n",
            "Feature Count: 0.0153\n",
            "Feature 가시거리: 0.0418\n",
            "Feature 온도: 0.0728\n",
            "Feature 풍속: 0.0562\n",
            "Feature 평일: 0.0085\n",
            "Feature 금요일: 0.007\n",
            "Feature 주말: 0.0081\n",
            "Feature 공휴일: 0.0031\n"
          ]
        }
      ],
      "source": [
        "importances = model.feature_importances_\n",
        "for i, importance in enumerate(importances):\n",
        "    print(f\"Feature {x_train.columns[i]}: {round(importance, 4)}\")"
      ]
    },
    {
      "cell_type": "code",
      "execution_count": null,
      "metadata": {
        "colab": {
          "base_uri": "https://localhost:8080/"
        },
        "id": "zDnBPmShCzaz",
        "outputId": "bd5f2f8c-cb7e-4c57-ef9a-2b5e9804c7ee"
      },
      "outputs": [
        {
          "output_type": "stream",
          "name": "stdout",
          "text": [
            "정확도: 0.9221256661568323\n"
          ]
        }
      ],
      "source": [
        "model = lgb.LGBMClassifier(n_estimators=100, random_state=42)\n",
        "model.fit(x_train, y_train)\n",
        "\n",
        "y_pred = model.predict(x_test)\n",
        "accuracy = accuracy_score(y_test, y_pred)\n",
        "\n",
        "print(\"정확도:\", accuracy)"
      ]
    },
    {
      "cell_type": "code",
      "execution_count": null,
      "metadata": {
        "colab": {
          "base_uri": "https://localhost:8080/"
        },
        "id": "N11bVDvZCzpG",
        "outputId": "1407caf7-869f-4704-c321-8019a1ec80f2"
      },
      "outputs": [
        {
          "output_type": "stream",
          "name": "stdout",
          "text": [
            "0.9003545637771754\n"
          ]
        }
      ],
      "source": [
        "print(calculate_f1_score(y_test, y_pred))"
      ]
    },
    {
      "cell_type": "code",
      "execution_count": null,
      "metadata": {
        "colab": {
          "base_uri": "https://localhost:8080/"
        },
        "id": "pOXUe9C-Cz2v",
        "outputId": "00ee8913-6602-464d-8f00-49af8bb11187"
      },
      "outputs": [
        {
          "output_type": "stream",
          "name": "stdout",
          "text": [
            "Feature 년: 0.031\n",
            "Feature 월: 0.043\n",
            "Feature 일: 0.0483\n",
            "Feature 항공사: 0.0814\n",
            "Feature 편명: 0.129\n",
            "Feature 출발지: 0.0953\n",
            "Feature 예상_1: 0.1138\n",
            "Feature 예상_2: 0.0884\n",
            "Feature 예상_승객: 0.0784\n",
            "Feature 운행_편수: 0.0738\n",
            "Feature Count: 0.0161\n",
            "Feature 가시거리: 0.0482\n",
            "Feature 온도: 0.0834\n",
            "Feature 풍속: 0.0543\n",
            "Feature 평일: 0.0021\n",
            "Feature 금요일: 0.0076\n",
            "Feature 주말: 0.0009\n",
            "Feature 공휴일: 0.0048\n"
          ]
        }
      ],
      "source": [
        "importances = model.feature_importances_\n",
        "total = sum(importances)\n",
        "for i, importance in enumerate(importances):\n",
        "    print(f\"Feature {x_train.columns[i]}: {round(importance/total, 4)}\")"
      ]
    },
    {
      "cell_type": "code",
      "execution_count": null,
      "metadata": {
        "colab": {
          "base_uri": "https://localhost:8080/"
        },
        "id": "pP3k_C9-qNM-",
        "outputId": "1115496d-3d1b-4d79-cce4-351deb9042cd"
      },
      "outputs": [
        {
          "output_type": "stream",
          "name": "stdout",
          "text": [
            "Fitting 5 folds for each of 108 candidates, totalling 540 fits\n",
            "Best parameters found by grid search: {'learning_rate': 0.05, 'max_depth': 15, 'min_child_samples': 100, 'n_estimators': 200, 'num_leaves': 127}\n",
            "Test accuracy with best parameters: 0.9346360400277094\n"
          ]
        }
      ],
      "source": [
        "lgb_classifier = lgb.LGBMClassifier()\n",
        "param_grid = {\n",
        "    'n_estimators': [100, 200],\n",
        "    'max_depth': [2, 5, 15],\n",
        "    'num_leaves': [31, 63, 127],\n",
        "    'learning_rate': [0.01, 0.05],\n",
        "    'min_child_samples': [100, 200, 250],\n",
        "}\n",
        "\n",
        "# 그리드 서치를 학습 데이터에 적용하고 최적의 하이퍼파라미터를 찾기\n",
        "grid_search = GridSearchCV(estimator=lgb_classifier, param_grid=param_grid, cv=5, verbose=2, n_jobs=-1)\n",
        "grid_search.fit(x_train, y_train)\n",
        "\n",
        "# 최적의 하이퍼파라미터 출력\n",
        "print('Best parameters found by grid search:', grid_search.best_params_)\n",
        "\n",
        "# 최적의 모델로 예측 및 정확도 측정\n",
        "y_pred = grid_search.predict(x_test)\n",
        "accuracy = accuracy_score(y_test, y_pred)\n",
        "print('Test accuracy with best parameters:', accuracy)"
      ]
    },
    {
      "cell_type": "code",
      "execution_count": null,
      "metadata": {
        "id": "0piQFJPuWKSu",
        "colab": {
          "base_uri": "https://localhost:8080/",
          "height": 394
        },
        "outputId": "1056d08b-9127-4a42-ba10-893f39eea463"
      },
      "outputs": [
        {
          "output_type": "error",
          "ename": "NotFittedError",
          "evalue": "ignored",
          "traceback": [
            "\u001b[0;31m---------------------------------------------------------------------------\u001b[0m",
            "\u001b[0;31mNotFittedError\u001b[0m                            Traceback (most recent call last)",
            "\u001b[0;32m<ipython-input-18-ac6cc7feb808>\u001b[0m in \u001b[0;36m<cell line: 1>\u001b[0;34m()\u001b[0m\n\u001b[0;32m----> 1\u001b[0;31m \u001b[0mimportances\u001b[0m \u001b[0;34m=\u001b[0m \u001b[0mlgb_classifier\u001b[0m\u001b[0;34m.\u001b[0m\u001b[0mfeature_importances_\u001b[0m\u001b[0;34m\u001b[0m\u001b[0;34m\u001b[0m\u001b[0m\n\u001b[0m\u001b[1;32m      2\u001b[0m \u001b[0mtotal\u001b[0m \u001b[0;34m=\u001b[0m \u001b[0msum\u001b[0m\u001b[0;34m(\u001b[0m\u001b[0mimportances\u001b[0m\u001b[0;34m)\u001b[0m\u001b[0;34m\u001b[0m\u001b[0;34m\u001b[0m\u001b[0m\n\u001b[1;32m      3\u001b[0m \u001b[0;32mfor\u001b[0m \u001b[0mi\u001b[0m\u001b[0;34m,\u001b[0m \u001b[0mimportance\u001b[0m \u001b[0;32min\u001b[0m \u001b[0menumerate\u001b[0m\u001b[0;34m(\u001b[0m\u001b[0mimportances\u001b[0m\u001b[0;34m)\u001b[0m\u001b[0;34m:\u001b[0m\u001b[0;34m\u001b[0m\u001b[0;34m\u001b[0m\u001b[0m\n\u001b[1;32m      4\u001b[0m     \u001b[0mprint\u001b[0m\u001b[0;34m(\u001b[0m\u001b[0;34mf\"Feature {x_train.columns[i]}: {round(importance/total, 4)}\"\u001b[0m\u001b[0;34m)\u001b[0m\u001b[0;34m\u001b[0m\u001b[0;34m\u001b[0m\u001b[0m\n",
            "\u001b[0;32m/usr/local/lib/python3.10/dist-packages/lightgbm/sklearn.py\u001b[0m in \u001b[0;36mfeature_importances_\u001b[0;34m(self)\u001b[0m\n\u001b[1;32m    872\u001b[0m         \"\"\"\n\u001b[1;32m    873\u001b[0m         \u001b[0;32mif\u001b[0m \u001b[0;32mnot\u001b[0m \u001b[0mself\u001b[0m\u001b[0;34m.\u001b[0m\u001b[0m__sklearn_is_fitted__\u001b[0m\u001b[0;34m(\u001b[0m\u001b[0;34m)\u001b[0m\u001b[0;34m:\u001b[0m\u001b[0;34m\u001b[0m\u001b[0;34m\u001b[0m\u001b[0m\n\u001b[0;32m--> 874\u001b[0;31m             \u001b[0;32mraise\u001b[0m \u001b[0mLGBMNotFittedError\u001b[0m\u001b[0;34m(\u001b[0m\u001b[0;34m'No feature_importances found. Need to call fit beforehand.'\u001b[0m\u001b[0;34m)\u001b[0m\u001b[0;34m\u001b[0m\u001b[0;34m\u001b[0m\u001b[0m\n\u001b[0m\u001b[1;32m    875\u001b[0m         \u001b[0;32mreturn\u001b[0m \u001b[0mself\u001b[0m\u001b[0;34m.\u001b[0m\u001b[0m_Booster\u001b[0m\u001b[0;34m.\u001b[0m\u001b[0mfeature_importance\u001b[0m\u001b[0;34m(\u001b[0m\u001b[0mimportance_type\u001b[0m\u001b[0;34m=\u001b[0m\u001b[0mself\u001b[0m\u001b[0;34m.\u001b[0m\u001b[0mimportance_type\u001b[0m\u001b[0;34m)\u001b[0m\u001b[0;34m\u001b[0m\u001b[0;34m\u001b[0m\u001b[0m\n\u001b[1;32m    876\u001b[0m \u001b[0;34m\u001b[0m\u001b[0m\n",
            "\u001b[0;31mNotFittedError\u001b[0m: No feature_importances found. Need to call fit beforehand."
          ]
        }
      ],
      "source": [
        "importances = lgb_classifier.feature_importances_\n",
        "total = sum(importances)\n",
        "for i, importance in enumerate(importances):\n",
        "    print(f\"Feature {x_train.columns[i]}: {round(importance/total, 4)}\")"
      ]
    },
    {
      "cell_type": "code",
      "source": [],
      "metadata": {
        "id": "M9yPWfojLWbN"
      },
      "execution_count": null,
      "outputs": []
    }
  ],
  "metadata": {
    "colab": {
      "machine_shape": "hm",
      "provenance": [],
      "authorship_tag": "ABX9TyNQn4C31b7HU7BeLM8Q4rAr",
      "include_colab_link": true
    },
    "kernelspec": {
      "display_name": "Python 3",
      "name": "python3"
    },
    "language_info": {
      "name": "python"
    }
  },
  "nbformat": 4,
  "nbformat_minor": 0
}
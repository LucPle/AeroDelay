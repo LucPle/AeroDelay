{
  "nbformat": 4,
  "nbformat_minor": 0,
  "metadata": {
    "colab": {
      "provenance": [],
      "machine_shape": "hm",
      "gpuType": "T4",
      "authorship_tag": "ABX9TyM1zFg+vrM/RekwPoop5FqP",
      "include_colab_link": true
    },
    "kernelspec": {
      "name": "python3",
      "display_name": "Python 3"
    },
    "language_info": {
      "name": "python"
    },
    "accelerator": "GPU"
  },
  "cells": [
    {
      "cell_type": "markdown",
      "metadata": {
        "id": "view-in-github",
        "colab_type": "text"
      },
      "source": [
        "<a href=\"https://colab.research.google.com/github/park1NG/MLTeamProject/blob/main/Random_Forest_and_LightGBM_Results.ipynb\" target=\"_parent\"><img src=\"https://colab.research.google.com/assets/colab-badge.svg\" alt=\"Open In Colab\"/></a>"
      ]
    },
    {
      "cell_type": "code",
      "execution_count": 77,
      "metadata": {
        "colab": {
          "base_uri": "https://localhost:8080/"
        },
        "id": "BDBkebs8frgb",
        "outputId": "0213afeb-c258-416a-96e4-62d06435443b"
      },
      "outputs": [
        {
          "output_type": "stream",
          "name": "stdout",
          "text": [
            "Drive already mounted at /content/drive; to attempt to forcibly remount, call drive.mount(\"/content/drive\", force_remount=True).\n"
          ]
        }
      ],
      "source": [
        "import pandas as pd\n",
        "import numpy as np\n",
        "import os\n",
        "from sklearn.ensemble import RandomForestClassifier\n",
        "from sklearn.preprocessing import LabelEncoder\n",
        "from sklearn.metrics import accuracy_score, precision_recall_fscore_support\n",
        "from sklearn.model_selection import train_test_split, GridSearchCV\n",
        "import lightgbm as lgb\n",
        "\n",
        "from tqdm import tqdm\n",
        "\n",
        "from google.colab import drive\n",
        "drive.mount('/content/drive')\n",
        "\n",
        "\n",
        "\n",
        "\n"
      ]
    },
    {
      "cell_type": "code",
      "source": [
        "cd /content/drive/MyDrive/Colab Notebooks"
      ],
      "metadata": {
        "colab": {
          "base_uri": "https://localhost:8080/"
        },
        "id": "m1-nU4ICggg4",
        "outputId": "13c8de69-ec30-4eff-d4a0-22b069c5443d"
      },
      "execution_count": 2,
      "outputs": [
        {
          "output_type": "stream",
          "name": "stdout",
          "text": [
            "/content/drive/MyDrive/Colab Notebooks\n"
          ]
        }
      ]
    },
    {
      "cell_type": "code",
      "source": [
        "def data_preprocessing(df):\n",
        "    df.dropna()\n",
        "    \n",
        "    df = df.drop(df[df['예상'] == ':'].index)\n",
        "    df = df.drop(df[df['도착'] == ':'].index)\n",
        "    df = df.drop(df[df['현황'] == '취소'].index)\n",
        "\n",
        "    df['연월일'] = df['연월일'].astype(str)\n",
        "    df['년'] = df['연월일'].str[:4].astype(int)\n",
        "    df['월'] = df['연월일'].str[5:7].astype(int)\n",
        "    df['일'] = df['연월일'].str[8:10].astype(int)\n",
        "\n",
        "    df['예상'] = df['예상'].astype(str)\n",
        "    df['예상_1'] = df['예상'].str[:2].astype(int)\n",
        "    df['예상_2'] = df['예상'].str[3:].astype(int)\n",
        "\n",
        "    df['도착'] = df['도착'].astype(str)\n",
        "    df['도착_1'] = df['도착'].str[:2].astype(int)\n",
        "    df['도착_2'] = df['도착'].str[3:].astype(int)\n",
        "\n",
        "    df = df[['년', '월', '일', '항공사', '편명', '출발지', '예상_1', '예상_2', '도착_1', '도착_2', '현황']]\n",
        "    # for col in list(set(df.columns) - set(categorical)):\n",
        "    #     df = df.astypes({col:'float64'})\n",
        "    \n",
        "    categorical = ['항공사', '편명', '출발지', '현황']\n",
        "    label_encoder = LabelEncoder()\n",
        "    for col in categorical:\n",
        "        df[col] = label_encoder.fit_transform(df[col])\n",
        "        df = df.astype({col:'int'})\n",
        "\n",
        "    df.info()\n",
        "\n",
        "    return df\n"
      ],
      "metadata": {
        "id": "7rnQs5Spf1sz"
      },
      "execution_count": 25,
      "outputs": []
    },
    {
      "cell_type": "code",
      "source": [
        "data_train = pd.read_csv('./train_airportal.csv')\n",
        "data_train = data_preprocessing(data_train)\n",
        "\n",
        "data_test = pd.read_csv('./test_airportal.csv')\n",
        "data_test = data_preprocessing(data_test)\n",
        "\n",
        "\n",
        "x_train_tmp = data_train.iloc[:, :10]  # 0번부터 7번 열까지를 X로 설정\n",
        "y_train_tmp = data_train.iloc[:, 10]   # 8번 열을 y로 설정\n",
        "\n",
        "x_test_tmp = data_test.iloc[:, :10]  # 0번부터 7번 열까지를 X로 설정\n",
        "y_test_tmp = data_test.iloc[:, 10]   # 8번 열을 y로 설정\n",
        "\n",
        "print(x_test_tmp.info())\n",
        "print(y_test_tmp.info())"
      ],
      "metadata": {
        "colab": {
          "base_uri": "https://localhost:8080/"
        },
        "id": "4FQXbW7ff4sn",
        "outputId": "f59ff722-4c72-49da-96f1-b724e387d1fd"
      },
      "execution_count": 29,
      "outputs": [
        {
          "output_type": "stream",
          "name": "stdout",
          "text": [
            "<class 'pandas.core.frame.DataFrame'>\n",
            "Int64Index: 487397 entries, 0 to 490035\n",
            "Data columns (total 11 columns):\n",
            " #   Column  Non-Null Count   Dtype\n",
            "---  ------  --------------   -----\n",
            " 0   년       487397 non-null  int64\n",
            " 1   월       487397 non-null  int64\n",
            " 2   일       487397 non-null  int64\n",
            " 3   항공사     487397 non-null  int64\n",
            " 4   편명      487397 non-null  int64\n",
            " 5   출발지     487397 non-null  int64\n",
            " 6   예상_1    487397 non-null  int64\n",
            " 7   예상_2    487397 non-null  int64\n",
            " 8   도착_1    487397 non-null  int64\n",
            " 9   도착_2    487397 non-null  int64\n",
            " 10  현황      487397 non-null  int64\n",
            "dtypes: int64(11)\n",
            "memory usage: 44.6 MB\n",
            "<class 'pandas.core.frame.DataFrame'>\n",
            "Int64Index: 182019 entries, 0 to 184516\n",
            "Data columns (total 11 columns):\n",
            " #   Column  Non-Null Count   Dtype\n",
            "---  ------  --------------   -----\n",
            " 0   년       182019 non-null  int64\n",
            " 1   월       182019 non-null  int64\n",
            " 2   일       182019 non-null  int64\n",
            " 3   항공사     182019 non-null  int64\n",
            " 4   편명      182019 non-null  int64\n",
            " 5   출발지     182019 non-null  int64\n",
            " 6   예상_1    182019 non-null  int64\n",
            " 7   예상_2    182019 non-null  int64\n",
            " 8   도착_1    182019 non-null  int64\n",
            " 9   도착_2    182019 non-null  int64\n",
            " 10  현황      182019 non-null  int64\n",
            "dtypes: int64(11)\n",
            "memory usage: 16.7 MB\n",
            "<class 'pandas.core.frame.DataFrame'>\n",
            "Int64Index: 182019 entries, 0 to 184516\n",
            "Data columns (total 10 columns):\n",
            " #   Column  Non-Null Count   Dtype\n",
            "---  ------  --------------   -----\n",
            " 0   년       182019 non-null  int64\n",
            " 1   월       182019 non-null  int64\n",
            " 2   일       182019 non-null  int64\n",
            " 3   항공사     182019 non-null  int64\n",
            " 4   편명      182019 non-null  int64\n",
            " 5   출발지     182019 non-null  int64\n",
            " 6   예상_1    182019 non-null  int64\n",
            " 7   예상_2    182019 non-null  int64\n",
            " 8   도착_1    182019 non-null  int64\n",
            " 9   도착_2    182019 non-null  int64\n",
            "dtypes: int64(10)\n",
            "memory usage: 15.3 MB\n",
            "None\n",
            "<class 'pandas.core.series.Series'>\n",
            "Int64Index: 182019 entries, 0 to 184516\n",
            "Series name: 현황\n",
            "Non-Null Count   Dtype\n",
            "--------------   -----\n",
            "182019 non-null  int64\n",
            "dtypes: int64(1)\n",
            "memory usage: 2.8 MB\n",
            "None\n"
          ]
        }
      ]
    },
    {
      "cell_type": "code",
      "source": [
        "model = RandomForestClassifier(n_estimators=100, random_state=42)\n",
        "model.fit(x_train_tmp, y_train_tmp)\n",
        "\n",
        "y_pred = model.predict(x_test_tmp)\n",
        "accuracy = accuracy_score(y_test_tmp, y_pred)\n",
        "\n",
        "print(\"정확도:\", accuracy)"
      ],
      "metadata": {
        "colab": {
          "base_uri": "https://localhost:8080/"
        },
        "id": "dqnhoNL8f6C6",
        "outputId": "e2d826cd-a188-4c15-a4d2-758fbe4df19f"
      },
      "execution_count": 30,
      "outputs": [
        {
          "output_type": "stream",
          "name": "stdout",
          "text": [
            "정확도: 0.8218867261110104\n"
          ]
        }
      ]
    },
    {
      "cell_type": "code",
      "source": [
        "def calculate_f1_score(y_true, y_pred):\n",
        "    # 정밀도, 재현율, F1 점수 계산\n",
        "    # micro, macro, samples, weighted\n",
        "    precision, recall, f1, _ = precision_recall_fscore_support(y_true, y_pred, average='weighted')\n",
        "    \n",
        "    return f1"
      ],
      "metadata": {
        "id": "gtjHbAQyg27V"
      },
      "execution_count": 33,
      "outputs": []
    },
    {
      "cell_type": "code",
      "source": [
        "print(calculate_f1_score(y_test_tmp, y_pred))"
      ],
      "metadata": {
        "colab": {
          "base_uri": "https://localhost:8080/"
        },
        "id": "s61Tbrm4ij7Y",
        "outputId": "9f5dcde1-c6d8-464d-c482-b637d51be200"
      },
      "execution_count": 34,
      "outputs": [
        {
          "output_type": "stream",
          "name": "stdout",
          "text": [
            "0.8588758767310122\n"
          ]
        },
        {
          "output_type": "stream",
          "name": "stderr",
          "text": [
            "/usr/local/lib/python3.10/dist-packages/sklearn/metrics/_classification.py:1344: UndefinedMetricWarning: Precision and F-score are ill-defined and being set to 0.0 in labels with no predicted samples. Use `zero_division` parameter to control this behavior.\n",
            "  _warn_prf(average, modifier, msg_start, len(result))\n"
          ]
        }
      ]
    },
    {
      "cell_type": "code",
      "source": [
        "model = lgb.LGBMClassifier(n_estimators=100, random_state=42)\n",
        "model.fit(x_train_tmp, y_train_tmp)\n",
        "\n",
        "y_pred = model.predict(x_test_tmp)\n",
        "accuracy = accuracy_score(y_test_tmp, y_pred)\n",
        "\n",
        "print(\"정확도:\", accuracy)"
      ],
      "metadata": {
        "id": "_sS9sa2Xiqg5",
        "colab": {
          "base_uri": "https://localhost:8080/"
        },
        "outputId": "d3a63511-3e6a-4cc0-aacb-e082b0d3cb3e"
      },
      "execution_count": 35,
      "outputs": [
        {
          "output_type": "stream",
          "name": "stdout",
          "text": [
            "정확도: 0.9342705981243716\n"
          ]
        }
      ]
    },
    {
      "cell_type": "code",
      "source": [
        "print(calculate_f1_score(y_test_tmp, y_pred))"
      ],
      "metadata": {
        "colab": {
          "base_uri": "https://localhost:8080/"
        },
        "id": "XwiTBdJVlvz7",
        "outputId": "8a587354-ec5f-4968-e2cb-2cbf10bcf1a9"
      },
      "execution_count": 36,
      "outputs": [
        {
          "output_type": "stream",
          "name": "stdout",
          "text": [
            "0.9265630879197277\n"
          ]
        }
      ]
    },
    {
      "cell_type": "markdown",
      "source": [
        "## Use airportal_passenger_airplane_per_day.csv"
      ],
      "metadata": {
        "id": "BR0-5NOTfE2T"
      }
    },
    {
      "cell_type": "code",
      "source": [
        "per_day_data = pd.read_csv('./per_day.csv')"
      ],
      "metadata": {
        "id": "7IQ1RsjCgdmE"
      },
      "execution_count": 40,
      "outputs": []
    },
    {
      "cell_type": "code",
      "source": [
        "per_day_data.info()\n",
        "per_day_data.head()"
      ],
      "metadata": {
        "colab": {
          "base_uri": "https://localhost:8080/",
          "height": 592
        },
        "id": "LGVK5p_kgwKV",
        "outputId": "3e53cb56-fb18-4dcc-c974-6e5b314b1fbc"
      },
      "execution_count": 43,
      "outputs": [
        {
          "output_type": "stream",
          "name": "stdout",
          "text": [
            "<class 'pandas.core.frame.DataFrame'>\n",
            "RangeIndex: 487396 entries, 0 to 487395\n",
            "Data columns (total 14 columns):\n",
            " #   Column      Non-Null Count   Dtype\n",
            "---  ------      --------------   -----\n",
            " 0   Unnamed: 0  487396 non-null  int64\n",
            " 1   년           487396 non-null  int64\n",
            " 2   월           487396 non-null  int64\n",
            " 3   일           487396 non-null  int64\n",
            " 4   항공사         487396 non-null  int64\n",
            " 5   편명          487396 non-null  int64\n",
            " 6   출발지         487396 non-null  int64\n",
            " 7   예상_1        487396 non-null  int64\n",
            " 8   예상_2        487396 non-null  int64\n",
            " 9   도착_1        487396 non-null  int64\n",
            " 10  도착_2        487396 non-null  int64\n",
            " 11  현황          487396 non-null  int64\n",
            " 12  예상_승객       487396 non-null  int64\n",
            " 13  운행_편수       487396 non-null  int64\n",
            "dtypes: int64(14)\n",
            "memory usage: 52.1 MB\n"
          ]
        },
        {
          "output_type": "execute_result",
          "data": {
            "text/plain": [
              "   Unnamed: 0     년  월  일  항공사    편명  출발지  예상_1  예상_2  도착_1  도착_2  현황  예상_승객  \\\n",
              "0           0  2016  1  1   49   441    9     0     5     0    11   1   1367   \n",
              "1           1  2016  1  1   70  1338   50     0     5     0    30   1   1367   \n",
              "2           2  2016  1  1   30  1440  184     0    10     0    15   1   1367   \n",
              "3           3  2016  1  1   75  1472   96     0     5     0    55   1   1367   \n",
              "4           4  2016  1  1    2   856    4     0    55     1    35   1   1367   \n",
              "\n",
              "   운행_편수  \n",
              "0    402  \n",
              "1    402  \n",
              "2    402  \n",
              "3    402  \n",
              "4    402  "
            ],
            "text/html": [
              "\n",
              "  <div id=\"df-639c34b3-d26a-4a50-921f-485e5f8f6811\">\n",
              "    <div class=\"colab-df-container\">\n",
              "      <div>\n",
              "<style scoped>\n",
              "    .dataframe tbody tr th:only-of-type {\n",
              "        vertical-align: middle;\n",
              "    }\n",
              "\n",
              "    .dataframe tbody tr th {\n",
              "        vertical-align: top;\n",
              "    }\n",
              "\n",
              "    .dataframe thead th {\n",
              "        text-align: right;\n",
              "    }\n",
              "</style>\n",
              "<table border=\"1\" class=\"dataframe\">\n",
              "  <thead>\n",
              "    <tr style=\"text-align: right;\">\n",
              "      <th></th>\n",
              "      <th>Unnamed: 0</th>\n",
              "      <th>년</th>\n",
              "      <th>월</th>\n",
              "      <th>일</th>\n",
              "      <th>항공사</th>\n",
              "      <th>편명</th>\n",
              "      <th>출발지</th>\n",
              "      <th>예상_1</th>\n",
              "      <th>예상_2</th>\n",
              "      <th>도착_1</th>\n",
              "      <th>도착_2</th>\n",
              "      <th>현황</th>\n",
              "      <th>예상_승객</th>\n",
              "      <th>운행_편수</th>\n",
              "    </tr>\n",
              "  </thead>\n",
              "  <tbody>\n",
              "    <tr>\n",
              "      <th>0</th>\n",
              "      <td>0</td>\n",
              "      <td>2016</td>\n",
              "      <td>1</td>\n",
              "      <td>1</td>\n",
              "      <td>49</td>\n",
              "      <td>441</td>\n",
              "      <td>9</td>\n",
              "      <td>0</td>\n",
              "      <td>5</td>\n",
              "      <td>0</td>\n",
              "      <td>11</td>\n",
              "      <td>1</td>\n",
              "      <td>1367</td>\n",
              "      <td>402</td>\n",
              "    </tr>\n",
              "    <tr>\n",
              "      <th>1</th>\n",
              "      <td>1</td>\n",
              "      <td>2016</td>\n",
              "      <td>1</td>\n",
              "      <td>1</td>\n",
              "      <td>70</td>\n",
              "      <td>1338</td>\n",
              "      <td>50</td>\n",
              "      <td>0</td>\n",
              "      <td>5</td>\n",
              "      <td>0</td>\n",
              "      <td>30</td>\n",
              "      <td>1</td>\n",
              "      <td>1367</td>\n",
              "      <td>402</td>\n",
              "    </tr>\n",
              "    <tr>\n",
              "      <th>2</th>\n",
              "      <td>2</td>\n",
              "      <td>2016</td>\n",
              "      <td>1</td>\n",
              "      <td>1</td>\n",
              "      <td>30</td>\n",
              "      <td>1440</td>\n",
              "      <td>184</td>\n",
              "      <td>0</td>\n",
              "      <td>10</td>\n",
              "      <td>0</td>\n",
              "      <td>15</td>\n",
              "      <td>1</td>\n",
              "      <td>1367</td>\n",
              "      <td>402</td>\n",
              "    </tr>\n",
              "    <tr>\n",
              "      <th>3</th>\n",
              "      <td>3</td>\n",
              "      <td>2016</td>\n",
              "      <td>1</td>\n",
              "      <td>1</td>\n",
              "      <td>75</td>\n",
              "      <td>1472</td>\n",
              "      <td>96</td>\n",
              "      <td>0</td>\n",
              "      <td>5</td>\n",
              "      <td>0</td>\n",
              "      <td>55</td>\n",
              "      <td>1</td>\n",
              "      <td>1367</td>\n",
              "      <td>402</td>\n",
              "    </tr>\n",
              "    <tr>\n",
              "      <th>4</th>\n",
              "      <td>4</td>\n",
              "      <td>2016</td>\n",
              "      <td>1</td>\n",
              "      <td>1</td>\n",
              "      <td>2</td>\n",
              "      <td>856</td>\n",
              "      <td>4</td>\n",
              "      <td>0</td>\n",
              "      <td>55</td>\n",
              "      <td>1</td>\n",
              "      <td>35</td>\n",
              "      <td>1</td>\n",
              "      <td>1367</td>\n",
              "      <td>402</td>\n",
              "    </tr>\n",
              "  </tbody>\n",
              "</table>\n",
              "</div>\n",
              "      <button class=\"colab-df-convert\" onclick=\"convertToInteractive('df-639c34b3-d26a-4a50-921f-485e5f8f6811')\"\n",
              "              title=\"Convert this dataframe to an interactive table.\"\n",
              "              style=\"display:none;\">\n",
              "        \n",
              "  <svg xmlns=\"http://www.w3.org/2000/svg\" height=\"24px\"viewBox=\"0 0 24 24\"\n",
              "       width=\"24px\">\n",
              "    <path d=\"M0 0h24v24H0V0z\" fill=\"none\"/>\n",
              "    <path d=\"M18.56 5.44l.94 2.06.94-2.06 2.06-.94-2.06-.94-.94-2.06-.94 2.06-2.06.94zm-11 1L8.5 8.5l.94-2.06 2.06-.94-2.06-.94L8.5 2.5l-.94 2.06-2.06.94zm10 10l.94 2.06.94-2.06 2.06-.94-2.06-.94-.94-2.06-.94 2.06-2.06.94z\"/><path d=\"M17.41 7.96l-1.37-1.37c-.4-.4-.92-.59-1.43-.59-.52 0-1.04.2-1.43.59L10.3 9.45l-7.72 7.72c-.78.78-.78 2.05 0 2.83L4 21.41c.39.39.9.59 1.41.59.51 0 1.02-.2 1.41-.59l7.78-7.78 2.81-2.81c.8-.78.8-2.07 0-2.86zM5.41 20L4 18.59l7.72-7.72 1.47 1.35L5.41 20z\"/>\n",
              "  </svg>\n",
              "      </button>\n",
              "      \n",
              "  <style>\n",
              "    .colab-df-container {\n",
              "      display:flex;\n",
              "      flex-wrap:wrap;\n",
              "      gap: 12px;\n",
              "    }\n",
              "\n",
              "    .colab-df-convert {\n",
              "      background-color: #E8F0FE;\n",
              "      border: none;\n",
              "      border-radius: 50%;\n",
              "      cursor: pointer;\n",
              "      display: none;\n",
              "      fill: #1967D2;\n",
              "      height: 32px;\n",
              "      padding: 0 0 0 0;\n",
              "      width: 32px;\n",
              "    }\n",
              "\n",
              "    .colab-df-convert:hover {\n",
              "      background-color: #E2EBFA;\n",
              "      box-shadow: 0px 1px 2px rgba(60, 64, 67, 0.3), 0px 1px 3px 1px rgba(60, 64, 67, 0.15);\n",
              "      fill: #174EA6;\n",
              "    }\n",
              "\n",
              "    [theme=dark] .colab-df-convert {\n",
              "      background-color: #3B4455;\n",
              "      fill: #D2E3FC;\n",
              "    }\n",
              "\n",
              "    [theme=dark] .colab-df-convert:hover {\n",
              "      background-color: #434B5C;\n",
              "      box-shadow: 0px 1px 3px 1px rgba(0, 0, 0, 0.15);\n",
              "      filter: drop-shadow(0px 1px 2px rgba(0, 0, 0, 0.3));\n",
              "      fill: #FFFFFF;\n",
              "    }\n",
              "  </style>\n",
              "\n",
              "      <script>\n",
              "        const buttonEl =\n",
              "          document.querySelector('#df-639c34b3-d26a-4a50-921f-485e5f8f6811 button.colab-df-convert');\n",
              "        buttonEl.style.display =\n",
              "          google.colab.kernel.accessAllowed ? 'block' : 'none';\n",
              "\n",
              "        async function convertToInteractive(key) {\n",
              "          const element = document.querySelector('#df-639c34b3-d26a-4a50-921f-485e5f8f6811');\n",
              "          const dataTable =\n",
              "            await google.colab.kernel.invokeFunction('convertToInteractive',\n",
              "                                                     [key], {});\n",
              "          if (!dataTable) return;\n",
              "\n",
              "          const docLinkHtml = 'Like what you see? Visit the ' +\n",
              "            '<a target=\"_blank\" href=https://colab.research.google.com/notebooks/data_table.ipynb>data table notebook</a>'\n",
              "            + ' to learn more about interactive tables.';\n",
              "          element.innerHTML = '';\n",
              "          dataTable['output_type'] = 'display_data';\n",
              "          await google.colab.output.renderOutput(dataTable, element);\n",
              "          const docLink = document.createElement('div');\n",
              "          docLink.innerHTML = docLinkHtml;\n",
              "          element.appendChild(docLink);\n",
              "        }\n",
              "      </script>\n",
              "    </div>\n",
              "  </div>\n",
              "  "
            ]
          },
          "metadata": {},
          "execution_count": 43
        }
      ]
    },
    {
      "cell_type": "code",
      "source": [
        "x_tmp_1, x_tmp_2 = per_day_data.iloc[:, 1:11], per_day_data.iloc[:, 12:] # 독립 변수\n",
        "y = per_day_data.iloc[:, 11] # 종속 변수\n",
        "x = pd.concat([x_tmp_1, x_tmp_2], axis=1)\n",
        "\n",
        "x.info()\n",
        "y.info()"
      ],
      "metadata": {
        "colab": {
          "base_uri": "https://localhost:8080/"
        },
        "id": "cmzh4NUuh1On",
        "outputId": "6086d351-8f5f-4e7b-afe3-aaafff100473"
      },
      "execution_count": 62,
      "outputs": [
        {
          "output_type": "stream",
          "name": "stdout",
          "text": [
            "<class 'pandas.core.frame.DataFrame'>\n",
            "RangeIndex: 487396 entries, 0 to 487395\n",
            "Data columns (total 12 columns):\n",
            " #   Column  Non-Null Count   Dtype\n",
            "---  ------  --------------   -----\n",
            " 0   년       487396 non-null  int64\n",
            " 1   월       487396 non-null  int64\n",
            " 2   일       487396 non-null  int64\n",
            " 3   항공사     487396 non-null  int64\n",
            " 4   편명      487396 non-null  int64\n",
            " 5   출발지     487396 non-null  int64\n",
            " 6   예상_1    487396 non-null  int64\n",
            " 7   예상_2    487396 non-null  int64\n",
            " 8   도착_1    487396 non-null  int64\n",
            " 9   도착_2    487396 non-null  int64\n",
            " 10  예상_승객   487396 non-null  int64\n",
            " 11  운행_편수   487396 non-null  int64\n",
            "dtypes: int64(12)\n",
            "memory usage: 44.6 MB\n",
            "<class 'pandas.core.series.Series'>\n",
            "RangeIndex: 487396 entries, 0 to 487395\n",
            "Series name: 현황\n",
            "Non-Null Count   Dtype\n",
            "--------------   -----\n",
            "487396 non-null  int64\n",
            "dtypes: int64(1)\n",
            "memory usage: 3.7 MB\n"
          ]
        }
      ]
    },
    {
      "cell_type": "code",
      "source": [
        "x_train, x_test, y_train, y_test = train_test_split(x, y, test_size=0.2, random_state=42)"
      ],
      "metadata": {
        "id": "fU2lXl6ifEoY"
      },
      "execution_count": 63,
      "outputs": []
    },
    {
      "cell_type": "code",
      "source": [
        "model = RandomForestClassifier(n_estimators=100, random_state=42)\n",
        "model.fit(x_train, y_train)\n",
        "\n",
        "y_pred = model.predict(x_test)\n",
        "accuracy = accuracy_score(y_test, y_pred)\n",
        "\n",
        "print(\"정확도:\", accuracy)"
      ],
      "metadata": {
        "colab": {
          "base_uri": "https://localhost:8080/"
        },
        "id": "LKdR9c8gjHHz",
        "outputId": "16cccd82-bf48-41a2-bc27-cc1cd51b25e9"
      },
      "execution_count": 55,
      "outputs": [
        {
          "output_type": "stream",
          "name": "stdout",
          "text": [
            "정확도: 0.9522979072630283\n"
          ]
        }
      ]
    },
    {
      "cell_type": "code",
      "source": [
        "print(calculate_f1_score(y_test, y_pred))"
      ],
      "metadata": {
        "colab": {
          "base_uri": "https://localhost:8080/"
        },
        "id": "U2As6AfCjrhp",
        "outputId": "f93cc4da-a5a0-42de-b601-9d338f32f742"
      },
      "execution_count": 57,
      "outputs": [
        {
          "output_type": "stream",
          "name": "stdout",
          "text": [
            "0.9459081278519333\n"
          ]
        },
        {
          "output_type": "stream",
          "name": "stderr",
          "text": [
            "/usr/local/lib/python3.10/dist-packages/sklearn/metrics/_classification.py:1344: UndefinedMetricWarning: Precision and F-score are ill-defined and being set to 0.0 in labels with no predicted samples. Use `zero_division` parameter to control this behavior.\n",
            "  _warn_prf(average, modifier, msg_start, len(result))\n"
          ]
        }
      ]
    },
    {
      "cell_type": "code",
      "source": [
        "x_train.info()\n",
        "x_test.info()\n",
        "y_train.info()\n",
        "y_test.info()"
      ],
      "metadata": {
        "colab": {
          "base_uri": "https://localhost:8080/"
        },
        "id": "5KZXSgcJkWpg",
        "outputId": "3235a53f-0fb2-4071-e617-dda4188567c9"
      },
      "execution_count": 64,
      "outputs": [
        {
          "output_type": "stream",
          "name": "stdout",
          "text": [
            "<class 'pandas.core.frame.DataFrame'>\n",
            "Int64Index: 389916 entries, 113211 to 121958\n",
            "Data columns (total 12 columns):\n",
            " #   Column  Non-Null Count   Dtype\n",
            "---  ------  --------------   -----\n",
            " 0   년       389916 non-null  int64\n",
            " 1   월       389916 non-null  int64\n",
            " 2   일       389916 non-null  int64\n",
            " 3   항공사     389916 non-null  int64\n",
            " 4   편명      389916 non-null  int64\n",
            " 5   출발지     389916 non-null  int64\n",
            " 6   예상_1    389916 non-null  int64\n",
            " 7   예상_2    389916 non-null  int64\n",
            " 8   도착_1    389916 non-null  int64\n",
            " 9   도착_2    389916 non-null  int64\n",
            " 10  예상_승객   389916 non-null  int64\n",
            " 11  운행_편수   389916 non-null  int64\n",
            "dtypes: int64(12)\n",
            "memory usage: 38.7 MB\n",
            "<class 'pandas.core.frame.DataFrame'>\n",
            "Int64Index: 97480 entries, 448720 to 9253\n",
            "Data columns (total 12 columns):\n",
            " #   Column  Non-Null Count  Dtype\n",
            "---  ------  --------------  -----\n",
            " 0   년       97480 non-null  int64\n",
            " 1   월       97480 non-null  int64\n",
            " 2   일       97480 non-null  int64\n",
            " 3   항공사     97480 non-null  int64\n",
            " 4   편명      97480 non-null  int64\n",
            " 5   출발지     97480 non-null  int64\n",
            " 6   예상_1    97480 non-null  int64\n",
            " 7   예상_2    97480 non-null  int64\n",
            " 8   도착_1    97480 non-null  int64\n",
            " 9   도착_2    97480 non-null  int64\n",
            " 10  예상_승객   97480 non-null  int64\n",
            " 11  운행_편수   97480 non-null  int64\n",
            "dtypes: int64(12)\n",
            "memory usage: 9.7 MB\n",
            "<class 'pandas.core.series.Series'>\n",
            "Int64Index: 389916 entries, 113211 to 121958\n",
            "Series name: 현황\n",
            "Non-Null Count   Dtype\n",
            "--------------   -----\n",
            "389916 non-null  int64\n",
            "dtypes: int64(1)\n",
            "memory usage: 5.9 MB\n",
            "<class 'pandas.core.series.Series'>\n",
            "Int64Index: 97480 entries, 448720 to 9253\n",
            "Series name: 현황\n",
            "Non-Null Count  Dtype\n",
            "--------------  -----\n",
            "97480 non-null  int64\n",
            "dtypes: int64(1)\n",
            "memory usage: 1.5 MB\n"
          ]
        }
      ]
    },
    {
      "cell_type": "code",
      "source": [
        "model = lgb.LGBMClassifier(n_estimators=100, random_state=42)\n",
        "model.fit(x_train, y_train)\n",
        "\n",
        "y_pred = model.predict(x_test)\n",
        "accuracy = accuracy_score(y_test, y_pred)\n",
        "\n",
        "print(\"정확도:\", accuracy)"
      ],
      "metadata": {
        "colab": {
          "base_uri": "https://localhost:8080/"
        },
        "id": "Y2b9eqDjjvQN",
        "outputId": "9c8313ff-eeda-48d7-9b4e-431e1fb99b65"
      },
      "execution_count": 65,
      "outputs": [
        {
          "output_type": "stream",
          "name": "stdout",
          "text": [
            "정확도: 0.933822322527698\n"
          ]
        }
      ]
    },
    {
      "cell_type": "code",
      "source": [
        "print(calculate_f1_score(y_test, y_pred))"
      ],
      "metadata": {
        "colab": {
          "base_uri": "https://localhost:8080/"
        },
        "id": "lZgDUEXkjx4J",
        "outputId": "18c79a4b-a423-4f14-9979-4602c0feca77"
      },
      "execution_count": 67,
      "outputs": [
        {
          "output_type": "stream",
          "name": "stdout",
          "text": [
            "0.920480207661757\n"
          ]
        }
      ]
    },
    {
      "cell_type": "markdown",
      "source": [
        "## Weather_add.csv"
      ],
      "metadata": {
        "id": "pA0EqQPwk_5n"
      }
    },
    {
      "cell_type": "code",
      "source": [
        "weather_add = pd.read_csv('./weather_add_16_18.csv')"
      ],
      "metadata": {
        "id": "EREKPKYbjyhc"
      },
      "execution_count": 69,
      "outputs": []
    },
    {
      "cell_type": "code",
      "source": [
        "weather_add.info()"
      ],
      "metadata": {
        "colab": {
          "base_uri": "https://localhost:8080/"
        },
        "id": "SIHaqzzLoHvQ",
        "outputId": "3b367e3e-7251-416d-cf46-13da824244b3"
      },
      "execution_count": 70,
      "outputs": [
        {
          "output_type": "stream",
          "name": "stdout",
          "text": [
            "<class 'pandas.core.frame.DataFrame'>\n",
            "RangeIndex: 485994 entries, 0 to 485993\n",
            "Data columns (total 17 columns):\n",
            " #   Column  Non-Null Count   Dtype  \n",
            "---  ------  --------------   -----  \n",
            " 0   년       485994 non-null  int64  \n",
            " 1   월       485994 non-null  int64  \n",
            " 2   일       485994 non-null  int64  \n",
            " 3   항공사     485994 non-null  int64  \n",
            " 4   편명      485994 non-null  int64  \n",
            " 5   출발지     485994 non-null  int64  \n",
            " 6   예상_1    485994 non-null  int64  \n",
            " 7   예상_2    485994 non-null  int64  \n",
            " 8   도착_1    485994 non-null  int64  \n",
            " 9   도착_2    485994 non-null  int64  \n",
            " 10  현황      485994 non-null  int64  \n",
            " 11  예상_승객   485994 non-null  int64  \n",
            " 12  운항편수    485994 non-null  int64  \n",
            " 13  Count   485994 non-null  int64  \n",
            " 14  가시거리    485994 non-null  float64\n",
            " 15  온도      485994 non-null  float64\n",
            " 16  풍속      485994 non-null  float64\n",
            "dtypes: float64(3), int64(14)\n",
            "memory usage: 63.0 MB\n"
          ]
        }
      ]
    },
    {
      "cell_type": "code",
      "source": [
        "x_tmp_1, x_tmp_2 = per_day_data.iloc[:, :10], per_day_data.iloc[:, 11:] # 독립 변수\n",
        "y = per_day_data.iloc[:, 10] # 종속 변수\n",
        "x = pd.concat([x_tmp_1, x_tmp_2], axis=1)\n",
        "\n",
        "x.info()\n",
        "y.info()"
      ],
      "metadata": {
        "colab": {
          "base_uri": "https://localhost:8080/"
        },
        "id": "vT8d148BoLty",
        "outputId": "78a1fa9f-be2d-4e9b-e309-ae78d11ed5e5"
      },
      "execution_count": 71,
      "outputs": [
        {
          "output_type": "stream",
          "name": "stdout",
          "text": [
            "<class 'pandas.core.frame.DataFrame'>\n",
            "RangeIndex: 485994 entries, 0 to 485993\n",
            "Data columns (total 16 columns):\n",
            " #   Column  Non-Null Count   Dtype  \n",
            "---  ------  --------------   -----  \n",
            " 0   년       485994 non-null  int64  \n",
            " 1   월       485994 non-null  int64  \n",
            " 2   일       485994 non-null  int64  \n",
            " 3   항공사     485994 non-null  int64  \n",
            " 4   편명      485994 non-null  int64  \n",
            " 5   출발지     485994 non-null  int64  \n",
            " 6   예상_1    485994 non-null  int64  \n",
            " 7   예상_2    485994 non-null  int64  \n",
            " 8   도착_1    485994 non-null  int64  \n",
            " 9   도착_2    485994 non-null  int64  \n",
            " 10  예상_승객   485994 non-null  int64  \n",
            " 11  운항편수    485994 non-null  int64  \n",
            " 12  Count   485994 non-null  int64  \n",
            " 13  가시거리    485994 non-null  float64\n",
            " 14  온도      485994 non-null  float64\n",
            " 15  풍속      485994 non-null  float64\n",
            "dtypes: float64(3), int64(13)\n",
            "memory usage: 59.3 MB\n",
            "<class 'pandas.core.series.Series'>\n",
            "RangeIndex: 485994 entries, 0 to 485993\n",
            "Series name: 현황\n",
            "Non-Null Count   Dtype\n",
            "--------------   -----\n",
            "485994 non-null  int64\n",
            "dtypes: int64(1)\n",
            "memory usage: 3.7 MB\n"
          ]
        }
      ]
    },
    {
      "cell_type": "code",
      "source": [
        "x_train, x_test, y_train, y_test = train_test_split(x, y, test_size=0.2, random_state=42)"
      ],
      "metadata": {
        "id": "sf8jZsSepLGa"
      },
      "execution_count": 72,
      "outputs": []
    },
    {
      "cell_type": "code",
      "source": [
        "model = RandomForestClassifier(n_estimators=100, random_state=42)\n",
        "model.fit(x_train, y_train)\n",
        "\n",
        "y_pred = model.predict(x_test)\n",
        "accuracy = accuracy_score(y_test, y_pred)\n",
        "\n",
        "print(\"정확도:\", accuracy)"
      ],
      "metadata": {
        "colab": {
          "base_uri": "https://localhost:8080/"
        },
        "id": "NkD5WODRpfzn",
        "outputId": "969be2f3-a1c0-4fb9-9b8a-65daf2a5d426"
      },
      "execution_count": 73,
      "outputs": [
        {
          "output_type": "stream",
          "name": "stdout",
          "text": [
            "정확도: 0.9456784534820317\n"
          ]
        }
      ]
    },
    {
      "cell_type": "code",
      "source": [
        "model = lgb.LGBMClassifier(n_estimators=100, random_state=42)\n",
        "model.fit(x_train, y_train)\n",
        "\n",
        "y_pred = model.predict(x_test)\n",
        "accuracy = accuracy_score(y_test, y_pred)\n",
        "\n",
        "print(\"정확도:\", accuracy)"
      ],
      "metadata": {
        "colab": {
          "base_uri": "https://localhost:8080/"
        },
        "id": "sOKJ4jFrptu3",
        "outputId": "8c88cbdc-8dbe-4216-b2e4-4e4def106f2a"
      },
      "execution_count": 74,
      "outputs": [
        {
          "output_type": "stream",
          "name": "stdout",
          "text": [
            "정확도: 0.9366145742240146\n"
          ]
        }
      ]
    },
    {
      "cell_type": "code",
      "source": [
        "lgb_classifier = lgb.LGBMClassifier(device='gpu')\n",
        "param_grid = {\n",
        "    'n_estimators': [20, 40, 60, 80, 100],\n",
        "    'max_depth': [2, 5, 10, 15, 20],\n",
        "    'num_leaves': [15, 31, 63, 127],\n",
        "    'learning_rate': [0.01, 0.03, 0.05, 0.1],\n",
        "    'min_child_samples': [20, 50, 100, 200],\n",
        "}\n",
        "\n",
        "# 그리드 서치를 학습 데이터에 적용하고 최적의 하이퍼파라미터를 찾기\n",
        "grid_search = GridSearchCV(estimator=lgb_classifier, param_grid=param_grid, cv=5, verbose=2, n_jobs=-1)\n",
        "grid_search.fit(x_train, y_train)\n",
        "\n",
        "# 최적의 하이퍼파라미터 출력\n",
        "print('Best parameters found by grid search:', grid_search.best_params_)\n",
        "\n",
        "# 최적의 모델로 예측 및 정확도 측정\n",
        "y_pred = grid_search.predict(x_test)\n",
        "accuracy = accuracy_score(y_test, y_pred)\n",
        "print('Test accuracy with best parameters:', accuracy)"
      ],
      "metadata": {
        "colab": {
          "base_uri": "https://localhost:8080/"
        },
        "id": "pP3k_C9-qNM-",
        "outputId": "9ef816bf-76cd-43f0-9f4f-d06e36fce15b"
      },
      "execution_count": null,
      "outputs": [
        {
          "output_type": "stream",
          "name": "stdout",
          "text": [
            "Fitting 5 folds for each of 1600 candidates, totalling 8000 fits\n"
          ]
        }
      ]
    },
    {
      "cell_type": "code",
      "source": [
        "from collections import product\n",
        "from \n",
        "\n",
        "class TqdmGridSearchCV(GridSearchCV):\n",
        "    \"\"\"상속된 OS 그리드 서치 함수에 기반하여 작업 진행률 표시\"\"\"\n",
        "\n",
        "    def _run_search(self, evaluate_candidates):\n",
        "        \"\"\"진행률 표시가능한 기능으로 Search 오버라이딩\"\"\"\n",
        "        evaluate_candidates(ParameterGrid(self.param_grid))\n",
        "\n",
        "    def _evaluate_candidates(self, candidate_params):\n",
        "        out = []\n",
        "        for parameters, (train, test) in product(candidate_params, enumerate(self.cv.split(X=self.X_, y=self.y_, groups=self.groups_))):\n",
        "            score = self._calc_score(self.X_, self.y_, train=train, test=test, parameters=parameters)\n",
        "            out.append((score, parameters, train, test))\n",
        "        df = pd.DataFrame(out, columns=['{}_split_{}'.format(self.scoring, i) for i in range(5)]+['params'])\n",
        "        self.cv_results_ = df\n",
        "        return df\n",
        "\n",
        "    def _calc_score(self, X, y, train, test, parameters):\n",
        "        \"\"\"모델 학습 및 테스트 점수 계산 \"\"\"\n",
        "        self.estimator.set_params(**parameters)\n",
        "        self.estimator.fit(X[train], y[train], eval_set=(X[test], y[test]), verbose=False) # verbose=True to see training progress\n",
        "        return self.estimator.score(X[test], y[test])\n",
        "\n",
        "\n",
        "# 원래 코드에 진행률 표시 클래스 추가\n",
        "from sklearn.utils import _safe_indexing\n",
        "import numpy as np\n",
        "\n",
        "lgb_classifier = lgb.LGBMClassifier(device='gpu')\n",
        "param_grid = {\n",
        "    'n_estimators': [20, 40, 60, 80, 100],\n",
        "    'max_depth': [2, 5, 10, 15, 20],\n",
        "    'num_leaves': [15, 31, 63, 127],\n",
        "    'learning_rate': [0.01, 0.03, 0.05, 0.1],\n",
        "    'min_child_samples': [20, 50, 100, 200],\n",
        "}\n",
        "\n",
        "grid_search = TqdmGridSearchCV(estimator=lgb_classifier, param_grid=param_grid, cv=5, n_jobs=-1)\n",
        "\n",
        "grid_search.fit(x_train, y_train)\n",
        "\n",
        "print('Best parameters found by grid search:', grid_search.best_params_)\n",
        "\n",
        "y_pred = grid_search.predict(x_test)\n",
        "accuracy = accuracy_score(y_test, y_pred)\n",
        "print('Test accuracy with best parameters:', accuracy)"
      ],
      "metadata": {
        "id": "YxeHaJ1JqfvH"
      },
      "execution_count": null,
      "outputs": []
    }
  ]
}
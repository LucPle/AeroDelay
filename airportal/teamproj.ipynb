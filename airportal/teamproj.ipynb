{
  "nbformat": 4,
  "nbformat_minor": 0,
  "metadata": {
    "colab": {
      "provenance": [],
      "authorship_tag": "ABX9TyOPhlzgBjCESjDGMLbgDrNU",
      "include_colab_link": true
    },
    "kernelspec": {
      "name": "python3",
      "display_name": "Python 3"
    },
    "language_info": {
      "name": "python"
    }
  },
  "cells": [
    {
      "cell_type": "markdown",
      "metadata": {
        "id": "view-in-github",
        "colab_type": "text"
      },
      "source": [
        "<a href=\"https://colab.research.google.com/github/park1NG/MLTeamProject/blob/main/airportal/teamproj.ipynb\" target=\"_parent\"><img src=\"https://colab.research.google.com/assets/colab-badge.svg\" alt=\"Open In Colab\"/></a>"
      ]
    },
    {
      "cell_type": "code",
      "execution_count": 22,
      "metadata": {
        "colab": {
          "base_uri": "https://localhost:8080/"
        },
        "id": "d7tkxdSi4prM",
        "outputId": "2947ec7e-c4fd-4e89-d07a-9095da4245cc"
      },
      "outputs": [
        {
          "output_type": "stream",
          "name": "stdout",
          "text": [
            "Drive already mounted at /content/drive; to attempt to forcibly remount, call drive.mount(\"/content/drive\", force_remount=True).\n"
          ]
        }
      ],
      "source": [
        "from google.colab import drive\n",
        "drive.mount('/content/drive')"
      ]
    },
    {
      "cell_type": "code",
      "source": [
        "cd /content/drive/MyDrive/\"Colab Notebooks\""
      ],
      "metadata": {
        "colab": {
          "base_uri": "https://localhost:8080/"
        },
        "id": "V6ehF_V45Och",
        "outputId": "ed189ebe-b513-4374-c3b0-ffa82920a994"
      },
      "execution_count": 23,
      "outputs": [
        {
          "output_type": "stream",
          "name": "stdout",
          "text": [
            "/content/drive/MyDrive/Colab Notebooks\n"
          ]
        }
      ]
    },
    {
      "cell_type": "code",
      "source": [
        "import pandas as pd\n",
        "import numpy as np\n",
        "import matplotlib.pyplot as plt\n",
        "import seaborn as sns"
      ],
      "metadata": {
        "id": "NTEn1CUJ5ffx"
      },
      "execution_count": 24,
      "outputs": []
    },
    {
      "cell_type": "code",
      "source": [
        "df = pd.read_csv('19airportal.csv')\n",
        "df2 =pd.read_csv('19airportal_origin.csv')\n",
        "# 연월일을 datetime 형식으로 변환\n",
        "df['연월일'] = pd.to_datetime(df['연월일'])\n",
        "\n",
        "# # 요일(feature) 추가\n",
        "df['요일'] = df['연월일'].dt.day_name()\n",
        "df\n",
        "\n",
        "df['도착'] = pd.to_datetime(df['도착'].str.replace(':', ''), format='%H%M', errors='coerce')\n",
        "df['예상'] = pd.to_datetime(df['예상'].str.replace(':', ''), format='%H%M', errors='coerce')\n",
        "\n",
        "# 지연 여부(feature) 추가\n",
        "df['현황'] = (pd.to_datetime(df['도착']) - pd.to_datetime(df['예상'])).dt.total_seconds() / 60 > 15\n",
        "df['현황'] = df['현황'].map({True: '지연', False: '정상'})\n",
        "\n",
        "df['도착'] = df2['도착']\n",
        "df['예상'] = df2['예상']\n",
        "df\n",
        "# # 결과 출력\n",
        "# print(df)\n"
      ],
      "metadata": {
        "colab": {
          "base_uri": "https://localhost:8080/",
          "height": 467
        },
        "id": "aueCuAyM5wE8",
        "outputId": "4d5bfa14-272e-46da-f778-911b2bb8efb2"
      },
      "execution_count": 48,
      "outputs": [
        {
          "output_type": "execute_result",
          "data": {
            "text/plain": [
              "              연월일          항공사      편명             출발지     계획     예상     도착  \\\n",
              "0      2019-01-01         에티하드   EY873  AUH(아부다비 국제공항)  00:15  00:15  00:09   \n",
              "1      2019-01-01    타이에어아시아엑스   XJ703    DMK(돈므앙(방콕))  00:20  00:20  00:27   \n",
              "2      2019-01-01         터키항공    TK91      IST(아타튀르크)  00:30  00:30  00:30   \n",
              "3      2019-01-01        카타르항공   QR859         DOH(도하)  00:35  00:35  00:35   \n",
              "4      2019-01-01      에티오피안항공   ET673     ADD(아디스아바바)  00:45  00:20  00:53   \n",
              "...           ...          ...     ...             ...    ...    ...    ...   \n",
              "184512 2019-12-31        티웨이항공   TW157   CXR(깜라인(나트랑))  23:20  23:20  23:36   \n",
              "184513 2019-12-31     필리핀에어아시아  Z25039   CRK(클라크 국제공항)  23:25  23:25  23:16   \n",
              "184514 2019-12-31         산동항공  SC4722         TAO(청도)  23:50  23:50  23:56   \n",
              "184515 2019-12-31      에미레이트항공   EK323        DXB(두바이)  23:50  23:50  23:51   \n",
              "184516 2019-12-31     필리핀에어아시아  Z27047         CEB(세부)  23:50  23:50  23:54   \n",
              "\n",
              "        구분  현황       요일  \n",
              "0       여객  정상  Tuesday  \n",
              "1       여객  정상  Tuesday  \n",
              "2       여객  정상  Tuesday  \n",
              "3       여객  정상  Tuesday  \n",
              "4       여객  지연  Tuesday  \n",
              "...     ..  ..      ...  \n",
              "184512  여객  지연  Tuesday  \n",
              "184513  여객  정상  Tuesday  \n",
              "184514  여객  정상  Tuesday  \n",
              "184515  여객  정상  Tuesday  \n",
              "184516  여객  정상  Tuesday  \n",
              "\n",
              "[184517 rows x 10 columns]"
            ],
            "text/html": [
              "\n",
              "  <div id=\"df-ad82be9e-564e-4286-9cef-2db62a89aab8\">\n",
              "    <div class=\"colab-df-container\">\n",
              "      <div>\n",
              "<style scoped>\n",
              "    .dataframe tbody tr th:only-of-type {\n",
              "        vertical-align: middle;\n",
              "    }\n",
              "\n",
              "    .dataframe tbody tr th {\n",
              "        vertical-align: top;\n",
              "    }\n",
              "\n",
              "    .dataframe thead th {\n",
              "        text-align: right;\n",
              "    }\n",
              "</style>\n",
              "<table border=\"1\" class=\"dataframe\">\n",
              "  <thead>\n",
              "    <tr style=\"text-align: right;\">\n",
              "      <th></th>\n",
              "      <th>연월일</th>\n",
              "      <th>항공사</th>\n",
              "      <th>편명</th>\n",
              "      <th>출발지</th>\n",
              "      <th>계획</th>\n",
              "      <th>예상</th>\n",
              "      <th>도착</th>\n",
              "      <th>구분</th>\n",
              "      <th>현황</th>\n",
              "      <th>요일</th>\n",
              "    </tr>\n",
              "  </thead>\n",
              "  <tbody>\n",
              "    <tr>\n",
              "      <th>0</th>\n",
              "      <td>2019-01-01</td>\n",
              "      <td>에티하드</td>\n",
              "      <td>EY873</td>\n",
              "      <td>AUH(아부다비 국제공항)</td>\n",
              "      <td>00:15</td>\n",
              "      <td>00:15</td>\n",
              "      <td>00:09</td>\n",
              "      <td>여객</td>\n",
              "      <td>정상</td>\n",
              "      <td>Tuesday</td>\n",
              "    </tr>\n",
              "    <tr>\n",
              "      <th>1</th>\n",
              "      <td>2019-01-01</td>\n",
              "      <td>타이에어아시아엑스</td>\n",
              "      <td>XJ703</td>\n",
              "      <td>DMK(돈므앙(방콕))</td>\n",
              "      <td>00:20</td>\n",
              "      <td>00:20</td>\n",
              "      <td>00:27</td>\n",
              "      <td>여객</td>\n",
              "      <td>정상</td>\n",
              "      <td>Tuesday</td>\n",
              "    </tr>\n",
              "    <tr>\n",
              "      <th>2</th>\n",
              "      <td>2019-01-01</td>\n",
              "      <td>터키항공</td>\n",
              "      <td>TK91</td>\n",
              "      <td>IST(아타튀르크)</td>\n",
              "      <td>00:30</td>\n",
              "      <td>00:30</td>\n",
              "      <td>00:30</td>\n",
              "      <td>여객</td>\n",
              "      <td>정상</td>\n",
              "      <td>Tuesday</td>\n",
              "    </tr>\n",
              "    <tr>\n",
              "      <th>3</th>\n",
              "      <td>2019-01-01</td>\n",
              "      <td>카타르항공</td>\n",
              "      <td>QR859</td>\n",
              "      <td>DOH(도하)</td>\n",
              "      <td>00:35</td>\n",
              "      <td>00:35</td>\n",
              "      <td>00:35</td>\n",
              "      <td>여객</td>\n",
              "      <td>정상</td>\n",
              "      <td>Tuesday</td>\n",
              "    </tr>\n",
              "    <tr>\n",
              "      <th>4</th>\n",
              "      <td>2019-01-01</td>\n",
              "      <td>에티오피안항공</td>\n",
              "      <td>ET673</td>\n",
              "      <td>ADD(아디스아바바)</td>\n",
              "      <td>00:45</td>\n",
              "      <td>00:20</td>\n",
              "      <td>00:53</td>\n",
              "      <td>여객</td>\n",
              "      <td>지연</td>\n",
              "      <td>Tuesday</td>\n",
              "    </tr>\n",
              "    <tr>\n",
              "      <th>...</th>\n",
              "      <td>...</td>\n",
              "      <td>...</td>\n",
              "      <td>...</td>\n",
              "      <td>...</td>\n",
              "      <td>...</td>\n",
              "      <td>...</td>\n",
              "      <td>...</td>\n",
              "      <td>...</td>\n",
              "      <td>...</td>\n",
              "      <td>...</td>\n",
              "    </tr>\n",
              "    <tr>\n",
              "      <th>184512</th>\n",
              "      <td>2019-12-31</td>\n",
              "      <td>티웨이항공</td>\n",
              "      <td>TW157</td>\n",
              "      <td>CXR(깜라인(나트랑))</td>\n",
              "      <td>23:20</td>\n",
              "      <td>23:20</td>\n",
              "      <td>23:36</td>\n",
              "      <td>여객</td>\n",
              "      <td>지연</td>\n",
              "      <td>Tuesday</td>\n",
              "    </tr>\n",
              "    <tr>\n",
              "      <th>184513</th>\n",
              "      <td>2019-12-31</td>\n",
              "      <td>필리핀에어아시아</td>\n",
              "      <td>Z25039</td>\n",
              "      <td>CRK(클라크 국제공항)</td>\n",
              "      <td>23:25</td>\n",
              "      <td>23:25</td>\n",
              "      <td>23:16</td>\n",
              "      <td>여객</td>\n",
              "      <td>정상</td>\n",
              "      <td>Tuesday</td>\n",
              "    </tr>\n",
              "    <tr>\n",
              "      <th>184514</th>\n",
              "      <td>2019-12-31</td>\n",
              "      <td>산동항공</td>\n",
              "      <td>SC4722</td>\n",
              "      <td>TAO(청도)</td>\n",
              "      <td>23:50</td>\n",
              "      <td>23:50</td>\n",
              "      <td>23:56</td>\n",
              "      <td>여객</td>\n",
              "      <td>정상</td>\n",
              "      <td>Tuesday</td>\n",
              "    </tr>\n",
              "    <tr>\n",
              "      <th>184515</th>\n",
              "      <td>2019-12-31</td>\n",
              "      <td>에미레이트항공</td>\n",
              "      <td>EK323</td>\n",
              "      <td>DXB(두바이)</td>\n",
              "      <td>23:50</td>\n",
              "      <td>23:50</td>\n",
              "      <td>23:51</td>\n",
              "      <td>여객</td>\n",
              "      <td>정상</td>\n",
              "      <td>Tuesday</td>\n",
              "    </tr>\n",
              "    <tr>\n",
              "      <th>184516</th>\n",
              "      <td>2019-12-31</td>\n",
              "      <td>필리핀에어아시아</td>\n",
              "      <td>Z27047</td>\n",
              "      <td>CEB(세부)</td>\n",
              "      <td>23:50</td>\n",
              "      <td>23:50</td>\n",
              "      <td>23:54</td>\n",
              "      <td>여객</td>\n",
              "      <td>정상</td>\n",
              "      <td>Tuesday</td>\n",
              "    </tr>\n",
              "  </tbody>\n",
              "</table>\n",
              "<p>184517 rows × 10 columns</p>\n",
              "</div>\n",
              "      <button class=\"colab-df-convert\" onclick=\"convertToInteractive('df-ad82be9e-564e-4286-9cef-2db62a89aab8')\"\n",
              "              title=\"Convert this dataframe to an interactive table.\"\n",
              "              style=\"display:none;\">\n",
              "        \n",
              "  <svg xmlns=\"http://www.w3.org/2000/svg\" height=\"24px\"viewBox=\"0 0 24 24\"\n",
              "       width=\"24px\">\n",
              "    <path d=\"M0 0h24v24H0V0z\" fill=\"none\"/>\n",
              "    <path d=\"M18.56 5.44l.94 2.06.94-2.06 2.06-.94-2.06-.94-.94-2.06-.94 2.06-2.06.94zm-11 1L8.5 8.5l.94-2.06 2.06-.94-2.06-.94L8.5 2.5l-.94 2.06-2.06.94zm10 10l.94 2.06.94-2.06 2.06-.94-2.06-.94-.94-2.06-.94 2.06-2.06.94z\"/><path d=\"M17.41 7.96l-1.37-1.37c-.4-.4-.92-.59-1.43-.59-.52 0-1.04.2-1.43.59L10.3 9.45l-7.72 7.72c-.78.78-.78 2.05 0 2.83L4 21.41c.39.39.9.59 1.41.59.51 0 1.02-.2 1.41-.59l7.78-7.78 2.81-2.81c.8-.78.8-2.07 0-2.86zM5.41 20L4 18.59l7.72-7.72 1.47 1.35L5.41 20z\"/>\n",
              "  </svg>\n",
              "      </button>\n",
              "      \n",
              "  <style>\n",
              "    .colab-df-container {\n",
              "      display:flex;\n",
              "      flex-wrap:wrap;\n",
              "      gap: 12px;\n",
              "    }\n",
              "\n",
              "    .colab-df-convert {\n",
              "      background-color: #E8F0FE;\n",
              "      border: none;\n",
              "      border-radius: 50%;\n",
              "      cursor: pointer;\n",
              "      display: none;\n",
              "      fill: #1967D2;\n",
              "      height: 32px;\n",
              "      padding: 0 0 0 0;\n",
              "      width: 32px;\n",
              "    }\n",
              "\n",
              "    .colab-df-convert:hover {\n",
              "      background-color: #E2EBFA;\n",
              "      box-shadow: 0px 1px 2px rgba(60, 64, 67, 0.3), 0px 1px 3px 1px rgba(60, 64, 67, 0.15);\n",
              "      fill: #174EA6;\n",
              "    }\n",
              "\n",
              "    [theme=dark] .colab-df-convert {\n",
              "      background-color: #3B4455;\n",
              "      fill: #D2E3FC;\n",
              "    }\n",
              "\n",
              "    [theme=dark] .colab-df-convert:hover {\n",
              "      background-color: #434B5C;\n",
              "      box-shadow: 0px 1px 3px 1px rgba(0, 0, 0, 0.15);\n",
              "      filter: drop-shadow(0px 1px 2px rgba(0, 0, 0, 0.3));\n",
              "      fill: #FFFFFF;\n",
              "    }\n",
              "  </style>\n",
              "\n",
              "      <script>\n",
              "        const buttonEl =\n",
              "          document.querySelector('#df-ad82be9e-564e-4286-9cef-2db62a89aab8 button.colab-df-convert');\n",
              "        buttonEl.style.display =\n",
              "          google.colab.kernel.accessAllowed ? 'block' : 'none';\n",
              "\n",
              "        async function convertToInteractive(key) {\n",
              "          const element = document.querySelector('#df-ad82be9e-564e-4286-9cef-2db62a89aab8');\n",
              "          const dataTable =\n",
              "            await google.colab.kernel.invokeFunction('convertToInteractive',\n",
              "                                                     [key], {});\n",
              "          if (!dataTable) return;\n",
              "\n",
              "          const docLinkHtml = 'Like what you see? Visit the ' +\n",
              "            '<a target=\"_blank\" href=https://colab.research.google.com/notebooks/data_table.ipynb>data table notebook</a>'\n",
              "            + ' to learn more about interactive tables.';\n",
              "          element.innerHTML = '';\n",
              "          dataTable['output_type'] = 'display_data';\n",
              "          await google.colab.output.renderOutput(dataTable, element);\n",
              "          const docLink = document.createElement('div');\n",
              "          docLink.innerHTML = docLinkHtml;\n",
              "          element.appendChild(docLink);\n",
              "        }\n",
              "      </script>\n",
              "    </div>\n",
              "  </div>\n",
              "  "
            ]
          },
          "metadata": {},
          "execution_count": 48
        }
      ]
    },
    {
      "cell_type": "code",
      "source": [
        "df.dtypes"
      ],
      "metadata": {
        "colab": {
          "base_uri": "https://localhost:8080/"
        },
        "id": "V0uYsFQQ6IyS",
        "outputId": "96416126-c93a-4f84-8f23-f0f13c6b1521"
      },
      "execution_count": 49,
      "outputs": [
        {
          "output_type": "execute_result",
          "data": {
            "text/plain": [
              "연월일    datetime64[ns]\n",
              "항공사            object\n",
              "편명             object\n",
              "출발지            object\n",
              "계획             object\n",
              "예상             object\n",
              "도착             object\n",
              "구분             object\n",
              "현황             object\n",
              "요일             object\n",
              "dtype: object"
            ]
          },
          "metadata": {},
          "execution_count": 49
        }
      ]
    },
    {
      "cell_type": "code",
      "source": [],
      "metadata": {
        "colab": {
          "base_uri": "https://localhost:8080/",
          "height": 209
        },
        "id": "ZMq-g4CpA1wE",
        "outputId": "ca3adedb-ae93-4852-d723-f3fee5b592d2"
      },
      "execution_count": 34,
      "outputs": [
        {
          "output_type": "error",
          "ename": "TypeError",
          "evalue": "ignored",
          "traceback": [
            "\u001b[0;31m---------------------------------------------------------------------------\u001b[0m",
            "\u001b[0;31mTypeError\u001b[0m                                 Traceback (most recent call last)",
            "\u001b[0;32m<ipython-input-34-0cd06fc79ec0>\u001b[0m in \u001b[0;36m<cell line: 1>\u001b[0;34m()\u001b[0m\n\u001b[0;32m----> 1\u001b[0;31m \u001b[0;32mfor\u001b[0m \u001b[0mi\u001b[0m \u001b[0;32min\u001b[0m \u001b[0mlen\u001b[0m\u001b[0;34m(\u001b[0m\u001b[0mdf\u001b[0m\u001b[0;34m[\u001b[0m\u001b[0;34m'예상'\u001b[0m\u001b[0;34m]\u001b[0m\u001b[0;34m)\u001b[0m\u001b[0;34m:\u001b[0m\u001b[0;34m\u001b[0m\u001b[0;34m\u001b[0m\u001b[0m\n\u001b[0m\u001b[1;32m      2\u001b[0m   \u001b[0mdf\u001b[0m\u001b[0;34m[\u001b[0m\u001b[0;34m'예상'\u001b[0m\u001b[0;34m]\u001b[0m\u001b[0;34m[\u001b[0m\u001b[0mi\u001b[0m\u001b[0;34m]\u001b[0m \u001b[0;34m=\u001b[0m \u001b[0mstr\u001b[0m\u001b[0;34m(\u001b[0m\u001b[0mdf\u001b[0m\u001b[0;34m[\u001b[0m\u001b[0;34m'예상'\u001b[0m\u001b[0;34m]\u001b[0m\u001b[0;34m[\u001b[0m\u001b[0mi\u001b[0m\u001b[0;34m]\u001b[0m\u001b[0;34m[\u001b[0m\u001b[0;34m:\u001b[0m\u001b[0;34m-\u001b[0m\u001b[0;36m3\u001b[0m\u001b[0;34m]\u001b[0m\u001b[0;34m)\u001b[0m\u001b[0;34m\u001b[0m\u001b[0;34m\u001b[0m\u001b[0m\n\u001b[1;32m      3\u001b[0m \u001b[0mdf\u001b[0m\u001b[0;34m\u001b[0m\u001b[0;34m\u001b[0m\u001b[0m\n",
            "\u001b[0;31mTypeError\u001b[0m: 'int' object is not iterable"
          ]
        }
      ]
    }
  ]
}